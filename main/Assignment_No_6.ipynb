{
 "cells": [
  {
   "cell_type": "markdown",
   "id": "75233264",
   "metadata": {},
   "source": [
    "# Question 01"
   ]
  },
  {
   "cell_type": "markdown",
   "id": "65c527c3",
   "metadata": {},
   "source": [
    "What are escape characters, and how do you use them?\n"
   ]
  },
  {
   "cell_type": "markdown",
   "id": "c2f02142",
   "metadata": {},
   "source": [
    "Solution:"
   ]
  },
  {
   "cell_type": "raw",
   "id": "3b796b3e",
   "metadata": {},
   "source": [
    "An escape character is a backslash \\ followed by the character you want to insert."
   ]
  },
  {
   "cell_type": "code",
   "execution_count": 1,
   "id": "e649eb56",
   "metadata": {},
   "outputs": [
    {
     "ename": "SyntaxError",
     "evalue": "unterminated string literal (detected at line 1) (3609631579.py, line 1)",
     "output_type": "error",
     "traceback": [
      "\u001b[1;36m  Cell \u001b[1;32mIn[1], line 1\u001b[1;36m\u001b[0m\n\u001b[1;33m    print('I'm Pretty Sure 'Exploring' Is Code')\u001b[0m\n\u001b[1;37m                                              ^\u001b[0m\n\u001b[1;31mSyntaxError\u001b[0m\u001b[1;31m:\u001b[0m unterminated string literal (detected at line 1)\n"
     ]
    }
   ],
   "source": [
    "print('I'm Pretty Sure 'Exploring' Is Code')"
   ]
  },
  {
   "cell_type": "code",
   "execution_count": 2,
   "id": "a79cb29d",
   "metadata": {},
   "outputs": [
    {
     "name": "stdout",
     "output_type": "stream",
     "text": [
      "I'm Pretty Sure 'Exploring' Is Code\n"
     ]
    }
   ],
   "source": [
    "print('I\\'m Pretty Sure \\'Exploring\\' Is Code')"
   ]
  },
  {
   "cell_type": "markdown",
   "id": "a168bda0",
   "metadata": {},
   "source": [
    "# Question 02"
   ]
  },
  {
   "cell_type": "markdown",
   "id": "d0e93f58",
   "metadata": {},
   "source": [
    "What do the escape characters n and t stand for?\n"
   ]
  },
  {
   "cell_type": "markdown",
   "id": "4a9c1131",
   "metadata": {},
   "source": [
    "Solution:"
   ]
  },
  {
   "cell_type": "raw",
   "id": "ac4e3682",
   "metadata": {},
   "source": [
    "\\n : New line escape character\n",
    "\\t : Tab space escape character"
   ]
  },
  {
   "cell_type": "code",
   "execution_count": 5,
   "id": "b0aa61f0",
   "metadata": {},
   "outputs": [
    {
     "name": "stdout",
     "output_type": "stream",
     "text": [
      "Hello!!!\n",
      "I'm Dipali.\n"
     ]
    }
   ],
   "source": [
    "# Use of \\n\n",
    "print(\"Hello!!!\\nI'm Dipali.\")"
   ]
  },
  {
   "cell_type": "code",
   "execution_count": 6,
   "id": "65458b83",
   "metadata": {},
   "outputs": [
    {
     "name": "stdout",
     "output_type": "stream",
     "text": [
      "Hello!!!\tI'm Dipali.\n"
     ]
    }
   ],
   "source": [
    "# Use of \\t\n",
    "print(\"Hello!!!\\tI'm Dipali.\")"
   ]
  },
  {
   "cell_type": "markdown",
   "id": "d599ac4a",
   "metadata": {},
   "source": [
    "# Question 03"
   ]
  },
  {
   "cell_type": "markdown",
   "id": "94bad8ee",
   "metadata": {},
   "source": [
    "What is the way to include backslash characters in a string?\n"
   ]
  },
  {
   "cell_type": "markdown",
   "id": "3e4cbab0",
   "metadata": {},
   "source": [
    "Solution:"
   ]
  },
  {
   "cell_type": "raw",
   "id": "4ffe3469",
   "metadata": {},
   "source": [
    "A blackslash character can be introduced with double blackslash characters."
   ]
  },
  {
   "cell_type": "code",
   "execution_count": 7,
   "id": "c1c16afd",
   "metadata": {},
   "outputs": [
    {
     "ename": "SyntaxError",
     "evalue": "unterminated string literal (detected at line 2) (1254780951.py, line 2)",
     "output_type": "error",
     "traceback": [
      "\u001b[1;36m  Cell \u001b[1;32mIn[7], line 2\u001b[1;36m\u001b[0m\n\u001b[1;33m    print('\\')\u001b[0m\n\u001b[1;37m          ^\u001b[0m\n\u001b[1;31mSyntaxError\u001b[0m\u001b[1;31m:\u001b[0m unterminated string literal (detected at line 2)\n"
     ]
    }
   ],
   "source": [
    "# Using single backslash character\n",
    "print('\\')"
   ]
  },
  {
   "cell_type": "code",
   "execution_count": 9,
   "id": "31fbeed5",
   "metadata": {},
   "outputs": [
    {
     "name": "stdout",
     "output_type": "stream",
     "text": [
      "\\\n"
     ]
    }
   ],
   "source": [
    "print(\"\\\\\")"
   ]
  },
  {
   "cell_type": "markdown",
   "id": "61b4143c",
   "metadata": {},
   "source": [
    "# Question 04"
   ]
  },
  {
   "cell_type": "markdown",
   "id": "d119265c",
   "metadata": {},
   "source": [
    "The string \"Howl's Moving Castle\" is a correct value. Why isn't the single quote character in the word Howl's not escaped a \n",
    "problem?\n"
   ]
  },
  {
   "cell_type": "markdown",
   "id": "5c985a92",
   "metadata": {},
   "source": [
    "Solution:"
   ]
  },
  {
   "cell_type": "code",
   "execution_count": 10,
   "id": "2ca59c6d",
   "metadata": {},
   "outputs": [
    {
     "ename": "SyntaxError",
     "evalue": "unterminated string literal (detected at line 2) (1943980522.py, line 2)",
     "output_type": "error",
     "traceback": [
      "\u001b[1;36m  Cell \u001b[1;32mIn[10], line 2\u001b[1;36m\u001b[0m\n\u001b[1;33m    print('Howl's Moving Castle')\u001b[0m\n\u001b[1;37m                               ^\u001b[0m\n\u001b[1;31mSyntaxError\u001b[0m\u001b[1;31m:\u001b[0m unterminated string literal (detected at line 2)\n"
     ]
    }
   ],
   "source": [
    "# if string was enclosed in single quotes it would have been a problem\n",
    "print('Howl's Moving Castle')"
   ]
  },
  {
   "cell_type": "code",
   "execution_count": 11,
   "id": "f8b8e54a",
   "metadata": {},
   "outputs": [
    {
     "name": "stdout",
     "output_type": "stream",
     "text": [
      "Howl's Moving Castle\n"
     ]
    }
   ],
   "source": [
    "# adding backslash\n",
    "print('Howl\\'s Moving Castle')"
   ]
  },
  {
   "cell_type": "markdown",
   "id": "77043bbc",
   "metadata": {},
   "source": [
    "# Question 05"
   ]
  },
  {
   "cell_type": "markdown",
   "id": "b6739f1b",
   "metadata": {},
   "source": [
    "How do you write a string of newlines if you don't want to use the n character?\n"
   ]
  },
  {
   "cell_type": "markdown",
   "id": "895ef456",
   "metadata": {},
   "source": [
    "Solution:"
   ]
  },
  {
   "cell_type": "raw",
   "id": "aea879e9",
   "metadata": {},
   "source": [
    "By default print statements add a new line character at the end of the string. We have to use multiline approach."
   ]
  },
  {
   "cell_type": "code",
   "execution_count": 12,
   "id": "750460d8",
   "metadata": {},
   "outputs": [
    {
     "name": "stdout",
     "output_type": "stream",
     "text": [
      "Hello\n",
      "World\n"
     ]
    }
   ],
   "source": [
    "print(\"Hello\")\n",
    "print(\"World\")"
   ]
  },
  {
   "cell_type": "markdown",
   "id": "80c5a458",
   "metadata": {},
   "source": [
    "# Question 06"
   ]
  },
  {
   "cell_type": "raw",
   "id": "b5afd21e",
   "metadata": {},
   "source": [
    "What are the values of the given expressions?\n",
    "'Hello, world!'[1]\n",
    "'Hello, world!'[0:5]\n",
    "'Hello, world!'[:5]\n",
    "'Hello, world!'[3:]\n"
   ]
  },
  {
   "cell_type": "markdown",
   "id": "bb2d6996",
   "metadata": {},
   "source": [
    "Solution:"
   ]
  },
  {
   "cell_type": "code",
   "execution_count": 13,
   "id": "926b46ba",
   "metadata": {},
   "outputs": [],
   "source": [
    "a = \"Hello, world!\""
   ]
  },
  {
   "cell_type": "code",
   "execution_count": 14,
   "id": "58055fad",
   "metadata": {},
   "outputs": [
    {
     "data": {
      "text/plain": [
       "'Hello, world!'"
      ]
     },
     "execution_count": 14,
     "metadata": {},
     "output_type": "execute_result"
    }
   ],
   "source": [
    "a"
   ]
  },
  {
   "cell_type": "code",
   "execution_count": 15,
   "id": "5880a67a",
   "metadata": {},
   "outputs": [
    {
     "data": {
      "text/plain": [
       "'e'"
      ]
     },
     "execution_count": 15,
     "metadata": {},
     "output_type": "execute_result"
    }
   ],
   "source": [
    "a[1]"
   ]
  },
  {
   "cell_type": "code",
   "execution_count": 16,
   "id": "22fb3203",
   "metadata": {},
   "outputs": [
    {
     "data": {
      "text/plain": [
       "'Hello'"
      ]
     },
     "execution_count": 16,
     "metadata": {},
     "output_type": "execute_result"
    }
   ],
   "source": [
    "a[0:5]"
   ]
  },
  {
   "cell_type": "code",
   "execution_count": 17,
   "id": "05041222",
   "metadata": {},
   "outputs": [
    {
     "data": {
      "text/plain": [
       "'Hello'"
      ]
     },
     "execution_count": 17,
     "metadata": {},
     "output_type": "execute_result"
    }
   ],
   "source": [
    "a[:5]"
   ]
  },
  {
   "cell_type": "code",
   "execution_count": 18,
   "id": "2de13287",
   "metadata": {},
   "outputs": [
    {
     "data": {
      "text/plain": [
       "'lo, world!'"
      ]
     },
     "execution_count": 18,
     "metadata": {},
     "output_type": "execute_result"
    }
   ],
   "source": [
    "a[3:]"
   ]
  },
  {
   "cell_type": "markdown",
   "id": "30211c09",
   "metadata": {},
   "source": [
    "# Question 07"
   ]
  },
  {
   "cell_type": "raw",
   "id": "6064040b",
   "metadata": {},
   "source": [
    "What are the values of the following expressions?\n",
    "'Hello'.upper()\n",
    "'Hello'.upper().isupper()\n",
    "'Hello'.upper().lower()\n"
   ]
  },
  {
   "cell_type": "markdown",
   "id": "e974953f",
   "metadata": {},
   "source": [
    "Solution:"
   ]
  },
  {
   "cell_type": "code",
   "execution_count": 19,
   "id": "c5d8c46b",
   "metadata": {},
   "outputs": [],
   "source": [
    "x = \"Mumbai\""
   ]
  },
  {
   "cell_type": "code",
   "execution_count": 20,
   "id": "48f3367e",
   "metadata": {},
   "outputs": [
    {
     "data": {
      "text/plain": [
       "'MUMBAI'"
      ]
     },
     "execution_count": 20,
     "metadata": {},
     "output_type": "execute_result"
    }
   ],
   "source": [
    "x.upper()"
   ]
  },
  {
   "cell_type": "code",
   "execution_count": 21,
   "id": "b3f323e8",
   "metadata": {},
   "outputs": [
    {
     "data": {
      "text/plain": [
       "True"
      ]
     },
     "execution_count": 21,
     "metadata": {},
     "output_type": "execute_result"
    }
   ],
   "source": [
    "x.upper().isupper()"
   ]
  },
  {
   "cell_type": "code",
   "execution_count": 22,
   "id": "f013e954",
   "metadata": {},
   "outputs": [
    {
     "data": {
      "text/plain": [
       "'mumbai'"
      ]
     },
     "execution_count": 22,
     "metadata": {},
     "output_type": "execute_result"
    }
   ],
   "source": [
    "x.upper().lower()"
   ]
  },
  {
   "cell_type": "markdown",
   "id": "f6f7e07c",
   "metadata": {},
   "source": [
    "# Question 08"
   ]
  },
  {
   "cell_type": "raw",
   "id": "ee50b45b",
   "metadata": {},
   "source": [
    "What are the values of the following expressions?\n",
    "'Remember, remember, the fifth of July.'.split()\n",
    "'-'.join('There can only one.'.split())\n"
   ]
  },
  {
   "cell_type": "markdown",
   "id": "1bf92641",
   "metadata": {},
   "source": [
    "Solution:"
   ]
  },
  {
   "cell_type": "code",
   "execution_count": 23,
   "id": "7710f1a8",
   "metadata": {},
   "outputs": [
    {
     "data": {
      "text/plain": [
       "['Remember,', 'remember,', 'the', 'fifth', 'of', 'July.']"
      ]
     },
     "execution_count": 23,
     "metadata": {},
     "output_type": "execute_result"
    }
   ],
   "source": [
    "'Remember, remember, the fifth of July.'.split()"
   ]
  },
  {
   "cell_type": "code",
   "execution_count": 24,
   "id": "e5a0e787",
   "metadata": {},
   "outputs": [
    {
     "data": {
      "text/plain": [
       "'There-can-only-one.'"
      ]
     },
     "execution_count": 24,
     "metadata": {},
     "output_type": "execute_result"
    }
   ],
   "source": [
    "'-'.join('There can only one.'.split())"
   ]
  },
  {
   "cell_type": "markdown",
   "id": "643ab0e2",
   "metadata": {},
   "source": [
    "# Question 09"
   ]
  },
  {
   "cell_type": "markdown",
   "id": "dffde5da",
   "metadata": {},
   "source": [
    "What are the methods for right-justifying, left-justifying, and centering a string?\n"
   ]
  },
  {
   "cell_type": "markdown",
   "id": "13939fa8",
   "metadata": {},
   "source": [
    "Solution:"
   ]
  },
  {
   "cell_type": "code",
   "execution_count": 26,
   "id": "9844ab50",
   "metadata": {},
   "outputs": [
    {
     "name": "stdout",
     "output_type": "stream",
     "text": [
      "Help on method_descriptor:\n",
      "\n",
      "rjust(self, width, fillchar=' ', /)\n",
      "    Return a right-justified string of length width.\n",
      "    \n",
      "    Padding is done using the specified fill character (default is a space).\n",
      "\n"
     ]
    }
   ],
   "source": [
    "help(str.rjust)"
   ]
  },
  {
   "cell_type": "code",
   "execution_count": 27,
   "id": "984e9fc4",
   "metadata": {},
   "outputs": [
    {
     "name": "stdout",
     "output_type": "stream",
     "text": [
      "$$$$$hello\n"
     ]
    }
   ],
   "source": [
    "s = \"hello\"\n",
    "length = 10\n",
    "fillchars = \"$\"\n",
    "\n",
    "print(s.rjust(length, fillchars))"
   ]
  },
  {
   "cell_type": "code",
   "execution_count": 28,
   "id": "5724f032",
   "metadata": {},
   "outputs": [
    {
     "name": "stdout",
     "output_type": "stream",
     "text": [
      "Help on method_descriptor:\n",
      "\n",
      "ljust(self, width, fillchar=' ', /)\n",
      "    Return a left-justified string of length width.\n",
      "    \n",
      "    Padding is done using the specified fill character (default is a space).\n",
      "\n"
     ]
    }
   ],
   "source": [
    "help(str.ljust)"
   ]
  },
  {
   "cell_type": "code",
   "execution_count": 29,
   "id": "0af882ec",
   "metadata": {},
   "outputs": [
    {
     "name": "stdout",
     "output_type": "stream",
     "text": [
      "hello$$$$$\n"
     ]
    }
   ],
   "source": [
    "s = \"hello\"\n",
    "length = 10\n",
    "fillchars = \"$\"\n",
    "\n",
    "print(s.ljust(length, fillchars))"
   ]
  },
  {
   "cell_type": "code",
   "execution_count": 30,
   "id": "fe70a107",
   "metadata": {},
   "outputs": [
    {
     "name": "stdout",
     "output_type": "stream",
     "text": [
      "Help on method_descriptor:\n",
      "\n",
      "center(self, width, fillchar=' ', /)\n",
      "    Return a centered string of length width.\n",
      "    \n",
      "    Padding is done using the specified fill character (default is a space).\n",
      "\n"
     ]
    }
   ],
   "source": [
    "help(str.center)"
   ]
  },
  {
   "cell_type": "code",
   "execution_count": 31,
   "id": "5bfa1cbb",
   "metadata": {},
   "outputs": [
    {
     "name": "stdout",
     "output_type": "stream",
     "text": [
      "Help on method_descriptor:\n",
      "\n",
      "center(self, width, fillchar=' ', /)\n",
      "    Return a centered string of length width.\n",
      "    \n",
      "    Padding is done using the specified fill character (default is a space).\n",
      "\n"
     ]
    }
   ],
   "source": [
    "help(str.center)"
   ]
  },
  {
   "cell_type": "markdown",
   "id": "122261fe",
   "metadata": {},
   "source": [
    "# Question 10"
   ]
  },
  {
   "cell_type": "markdown",
   "id": "ee6406cf",
   "metadata": {},
   "source": [
    "What is the best way to remove whitespace characters from the start or end?\n",
    "\n",
    "\n"
   ]
  },
  {
   "cell_type": "markdown",
   "id": "cd7ad33c",
   "metadata": {},
   "source": [
    "Solution:"
   ]
  },
  {
   "cell_type": "raw",
   "id": "8f881749",
   "metadata": {},
   "source": [
    "using .strip() function"
   ]
  },
  {
   "cell_type": "code",
   "execution_count": 32,
   "id": "4684582e",
   "metadata": {},
   "outputs": [
    {
     "name": "stdout",
     "output_type": "stream",
     "text": [
      "Help on method_descriptor:\n",
      "\n",
      "strip(self, chars=None, /)\n",
      "    Return a copy of the string with leading and trailing whitespace removed.\n",
      "    \n",
      "    If chars is given and not None, remove characters in chars instead.\n",
      "\n"
     ]
    }
   ],
   "source": [
    "help(str.strip)"
   ]
  },
  {
   "cell_type": "code",
   "execution_count": 33,
   "id": "f3fce827",
   "metadata": {},
   "outputs": [],
   "source": [
    "s = \"  Hello, I'm Groot. \" "
   ]
  },
  {
   "cell_type": "code",
   "execution_count": 34,
   "id": "bf2b299a",
   "metadata": {},
   "outputs": [
    {
     "name": "stdout",
     "output_type": "stream",
     "text": [
      "20\n",
      "  Hello, I'm Groot. \n"
     ]
    }
   ],
   "source": [
    "print(len(s))\n",
    "print(s)"
   ]
  },
  {
   "cell_type": "code",
   "execution_count": 35,
   "id": "2c82a655",
   "metadata": {},
   "outputs": [],
   "source": [
    "# remove whitespaces\n",
    "s = s.strip()"
   ]
  },
  {
   "cell_type": "code",
   "execution_count": 36,
   "id": "c13f479f",
   "metadata": {},
   "outputs": [
    {
     "name": "stdout",
     "output_type": "stream",
     "text": [
      "17\n",
      "Hello, I'm Groot.\n"
     ]
    }
   ],
   "source": [
    "print(len(s))\n",
    "print(s)"
   ]
  },
  {
   "cell_type": "code",
   "execution_count": null,
   "id": "11e7976b",
   "metadata": {},
   "outputs": [],
   "source": []
  }
 ],
 "metadata": {
  "kernelspec": {
   "display_name": "Python 3 (ipykernel)",
   "language": "python",
   "name": "python3"
  },
  "language_info": {
   "codemirror_mode": {
    "name": "ipython",
    "version": 3
   },
   "file_extension": ".py",
   "mimetype": "text/x-python",
   "name": "python",
   "nbconvert_exporter": "python",
   "pygments_lexer": "ipython3",
   "version": "3.11.5"
  }
 },
 "nbformat": 4,
 "nbformat_minor": 5
}
