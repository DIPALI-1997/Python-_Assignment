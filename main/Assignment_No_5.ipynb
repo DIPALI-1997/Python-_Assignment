{
 "cells": [
  {
   "cell_type": "markdown",
   "id": "1b97d90e",
   "metadata": {},
   "source": [
    "# Question 01"
   ]
  },
  {
   "cell_type": "markdown",
   "id": "4564aace",
   "metadata": {},
   "source": [
    "What does an empty dictionary's code look like?\n"
   ]
  },
  {
   "cell_type": "markdown",
   "id": "b3c2c2ca",
   "metadata": {},
   "source": [
    "Solution:"
   ]
  },
  {
   "cell_type": "code",
   "execution_count": 1,
   "id": "7e7e3920",
   "metadata": {},
   "outputs": [
    {
     "data": {
      "text/plain": [
       "({}, dict)"
      ]
     },
     "execution_count": 1,
     "metadata": {},
     "output_type": "execute_result"
    }
   ],
   "source": [
    "my_dict = {}\n",
    "my_dict, type(my_dict)"
   ]
  },
  {
   "cell_type": "markdown",
   "id": "1018c4bb",
   "metadata": {},
   "source": [
    "# Question 02"
   ]
  },
  {
   "cell_type": "markdown",
   "id": "f68cd39c",
   "metadata": {},
   "source": [
    "What is the value of a dictionary value with the key 'foo' and the value 42?\n"
   ]
  },
  {
   "cell_type": "markdown",
   "id": "b40ee411",
   "metadata": {},
   "source": [
    "Solution:"
   ]
  },
  {
   "cell_type": "code",
   "execution_count": 2,
   "id": "6b3cc056",
   "metadata": {},
   "outputs": [
    {
     "name": "stdout",
     "output_type": "stream",
     "text": [
      "{'foo': 42}\n",
      "Values of dictionary : dict_values([42])\n"
     ]
    }
   ],
   "source": [
    "my_dict = {'foo' : 42}\n",
    "\n",
    "print(my_dict)\n",
    "print(f\"Values of dictionary : {my_dict.values()}\")"
   ]
  },
  {
   "cell_type": "markdown",
   "id": "c7bcdb23",
   "metadata": {},
   "source": [
    "# Question 03"
   ]
  },
  {
   "cell_type": "markdown",
   "id": "6d4c909b",
   "metadata": {},
   "source": [
    "What is the most significant distinction between a dictionary and a list?\n"
   ]
  },
  {
   "cell_type": "markdown",
   "id": "f9850d66",
   "metadata": {},
   "source": [
    "Solution:"
   ]
  },
  {
   "cell_type": "markdown",
   "id": "6dba7751",
   "metadata": {},
   "source": [
    "Dictionaries are unordered collection of data points. It uses key, value structure to store the values."
   ]
  },
  {
   "cell_type": "markdown",
   "id": "c485c64f",
   "metadata": {},
   "source": [
    "Lists have ordered items."
   ]
  },
  {
   "cell_type": "code",
   "execution_count": 3,
   "id": "c31a402b",
   "metadata": {},
   "outputs": [
    {
     "data": {
      "text/plain": [
       "[1, 2, 3, 4]"
      ]
     },
     "execution_count": 3,
     "metadata": {},
     "output_type": "execute_result"
    }
   ],
   "source": [
    "my_list = [1,2,3,4]\n",
    "my_list"
   ]
  },
  {
   "cell_type": "code",
   "execution_count": 4,
   "id": "1cbe7f17",
   "metadata": {},
   "outputs": [
    {
     "data": {
      "text/plain": [
       "{'foo': 43, 'la': 42, 'a': 1}"
      ]
     },
     "execution_count": 4,
     "metadata": {},
     "output_type": "execute_result"
    }
   ],
   "source": [
    "my_dict = {'foo' : 43, 'la' : 42, 'a':1}\n",
    "my_dict"
   ]
  },
  {
   "cell_type": "markdown",
   "id": "2a4edb25",
   "metadata": {},
   "source": [
    "# Question 04"
   ]
  },
  {
   "cell_type": "markdown",
   "id": "97964372",
   "metadata": {},
   "source": [
    "What happens if you try to access spam['foo'] if spam is {'bar': 100}?\n"
   ]
  },
  {
   "cell_type": "markdown",
   "id": "9fa8356b",
   "metadata": {},
   "source": [
    "Solution:"
   ]
  },
  {
   "cell_type": "code",
   "execution_count": 5,
   "id": "2a46fd94",
   "metadata": {},
   "outputs": [
    {
     "data": {
      "text/plain": [
       "{'bar': 100}"
      ]
     },
     "execution_count": 5,
     "metadata": {},
     "output_type": "execute_result"
    }
   ],
   "source": [
    "# initialize dict\n",
    "my_dict = {'bar' : 100}\n",
    "my_dict"
   ]
  },
  {
   "cell_type": "code",
   "execution_count": 6,
   "id": "be0c80df",
   "metadata": {},
   "outputs": [
    {
     "ename": "KeyError",
     "evalue": "'foo'",
     "output_type": "error",
     "traceback": [
      "\u001b[1;31m---------------------------------------------------------------------------\u001b[0m",
      "\u001b[1;31mKeyError\u001b[0m                                  Traceback (most recent call last)",
      "Cell \u001b[1;32mIn[6], line 2\u001b[0m\n\u001b[0;32m      1\u001b[0m \u001b[38;5;66;03m# accessing key 'foo'\u001b[39;00m\n\u001b[1;32m----> 2\u001b[0m my_dict[\u001b[38;5;124m'\u001b[39m\u001b[38;5;124mfoo\u001b[39m\u001b[38;5;124m'\u001b[39m]\n",
      "\u001b[1;31mKeyError\u001b[0m: 'foo'"
     ]
    }
   ],
   "source": [
    "# accessing key 'foo'\n",
    "my_dict['foo']"
   ]
  },
  {
   "cell_type": "markdown",
   "id": "da7db97e",
   "metadata": {},
   "source": [
    "# Question 05"
   ]
  },
  {
   "cell_type": "markdown",
   "id": "2766e9fb",
   "metadata": {},
   "source": [
    "If a dictionary is stored in spam, what is the difference between the expressions 'cat' in spam and 'cat' in spam.keys()?\n"
   ]
  },
  {
   "cell_type": "markdown",
   "id": "621edca9",
   "metadata": {},
   "source": [
    "Solution:"
   ]
  },
  {
   "cell_type": "markdown",
   "id": "9764ff45",
   "metadata": {},
   "source": [
    "dict.keys() returns a list of keys of the dictionary."
   ]
  },
  {
   "cell_type": "code",
   "execution_count": 8,
   "id": "e5e044e1",
   "metadata": {},
   "outputs": [],
   "source": [
    "# initialize dictionary\n",
    "my_dict = {'dog': 1, 'cat': 2, 'parrot': 4}"
   ]
  },
  {
   "cell_type": "code",
   "execution_count": 9,
   "id": "1cc0a090",
   "metadata": {},
   "outputs": [
    {
     "data": {
      "text/plain": [
       "True"
      ]
     },
     "execution_count": 9,
     "metadata": {},
     "output_type": "execute_result"
    }
   ],
   "source": [
    "'cat' in my_dict"
   ]
  },
  {
   "cell_type": "code",
   "execution_count": 10,
   "id": "dbb301cc",
   "metadata": {},
   "outputs": [
    {
     "data": {
      "text/plain": [
       "True"
      ]
     },
     "execution_count": 10,
     "metadata": {},
     "output_type": "execute_result"
    }
   ],
   "source": [
    "'cat' in my_dict.keys()"
   ]
  },
  {
   "cell_type": "raw",
   "id": "06f179b5",
   "metadata": {},
   "source": [
    "Maybe the difference is between time to access a key."
   ]
  },
  {
   "cell_type": "code",
   "execution_count": 11,
   "id": "62ff09ea",
   "metadata": {},
   "outputs": [
    {
     "name": "stderr",
     "output_type": "stream",
     "text": [
      "UsageError: Line magic function `%timeit('cat'` not found.\n"
     ]
    }
   ],
   "source": [
    "%timeit('cat' in my_dict)"
   ]
  },
  {
   "cell_type": "code",
   "execution_count": 12,
   "id": "5b77c341",
   "metadata": {},
   "outputs": [
    {
     "name": "stderr",
     "output_type": "stream",
     "text": [
      "UsageError: Line magic function `%timeit('cat'` not found.\n"
     ]
    }
   ],
   "source": [
    "%timeit('cat' in my_dict.keys())"
   ]
  },
  {
   "cell_type": "markdown",
   "id": "319a11af",
   "metadata": {},
   "source": [
    "# Question 06"
   ]
  },
  {
   "cell_type": "markdown",
   "id": "9f5f4a03",
   "metadata": {},
   "source": [
    "If a dictionary is stored in spam, what is the difference between the expressions 'cat' in spam and 'cat' in spam.values()?\n"
   ]
  },
  {
   "cell_type": "markdown",
   "id": "6ef6c428",
   "metadata": {},
   "source": [
    "Solution:"
   ]
  },
  {
   "cell_type": "raw",
   "id": "041e1b3b",
   "metadata": {},
   "source": [
    "'cat' in spam checks if 'cat' key is presend in dictionary or not.\n",
    "\n",
    "'cat' in spam.values() check 'cat' value in any of the key of spam."
   ]
  },
  {
   "cell_type": "code",
   "execution_count": 13,
   "id": "3cbb8794",
   "metadata": {},
   "outputs": [],
   "source": [
    "# initialize dictionary\n",
    "my_dict = {'dog': 1, 'cat': 2, 'parrot': 4}"
   ]
  },
  {
   "cell_type": "code",
   "execution_count": 14,
   "id": "1a4dbd3f",
   "metadata": {},
   "outputs": [
    {
     "data": {
      "text/plain": [
       "{'dog': 1, 'cat': 2, 'parrot': 4}"
      ]
     },
     "execution_count": 14,
     "metadata": {},
     "output_type": "execute_result"
    }
   ],
   "source": [
    "my_dict"
   ]
  },
  {
   "cell_type": "code",
   "execution_count": 15,
   "id": "fe8fb33d",
   "metadata": {},
   "outputs": [
    {
     "data": {
      "text/plain": [
       "True"
      ]
     },
     "execution_count": 15,
     "metadata": {},
     "output_type": "execute_result"
    }
   ],
   "source": [
    "'cat' in my_dict"
   ]
  },
  {
   "cell_type": "code",
   "execution_count": 16,
   "id": "81124331",
   "metadata": {},
   "outputs": [
    {
     "data": {
      "text/plain": [
       "dict_values([1, 2, 4])"
      ]
     },
     "execution_count": 16,
     "metadata": {},
     "output_type": "execute_result"
    }
   ],
   "source": [
    "my_dict.values()"
   ]
  },
  {
   "cell_type": "code",
   "execution_count": 17,
   "id": "a528c5aa",
   "metadata": {},
   "outputs": [
    {
     "data": {
      "text/plain": [
       "False"
      ]
     },
     "execution_count": 17,
     "metadata": {},
     "output_type": "execute_result"
    }
   ],
   "source": [
    "'cat' in my_dict.values()"
   ]
  },
  {
   "cell_type": "markdown",
   "id": "d1c5e5f6",
   "metadata": {},
   "source": [
    "# Question 07"
   ]
  },
  {
   "cell_type": "raw",
   "id": "ec47499e",
   "metadata": {},
   "source": [
    "What is a shortcut for the following code?\n",
    "    if 'color' not in spam:\n",
    "    spam['color'] = 'black'\n",
    "\n"
   ]
  },
  {
   "cell_type": "markdown",
   "id": "32ef7ea8",
   "metadata": {},
   "source": [
    "Solution:"
   ]
  },
  {
   "cell_type": "code",
   "execution_count": 18,
   "id": "f0b3ef9c",
   "metadata": {},
   "outputs": [
    {
     "name": "stdout",
     "output_type": "stream",
     "text": [
      "Help on method_descriptor:\n",
      "\n",
      "setdefault(self, key, default=None, /)\n",
      "    Insert key with a value of default if key is not in the dictionary.\n",
      "    \n",
      "    Return the value for key if key is in the dictionary, else default.\n",
      "\n"
     ]
    }
   ],
   "source": [
    "help(dict.setdefault)"
   ]
  },
  {
   "cell_type": "code",
   "execution_count": 19,
   "id": "db4a602a",
   "metadata": {},
   "outputs": [
    {
     "data": {
      "text/plain": [
       "'black'"
      ]
     },
     "execution_count": 19,
     "metadata": {},
     "output_type": "execute_result"
    }
   ],
   "source": [
    "spam = {}\n",
    "spam.setdefault('color', 'black')"
   ]
  },
  {
   "cell_type": "code",
   "execution_count": 20,
   "id": "cbc367df",
   "metadata": {},
   "outputs": [
    {
     "data": {
      "text/plain": [
       "{'color': 'black'}"
      ]
     },
     "execution_count": 20,
     "metadata": {},
     "output_type": "execute_result"
    }
   ],
   "source": [
    "spam"
   ]
  },
  {
   "cell_type": "markdown",
   "id": "fb296a28",
   "metadata": {},
   "source": [
    "# Question 08"
   ]
  },
  {
   "cell_type": "markdown",
   "id": "73723f07",
   "metadata": {},
   "source": [
    "How do you \"pretty print\" dictionary values using which module and function?\n"
   ]
  },
  {
   "cell_type": "markdown",
   "id": "73495540",
   "metadata": {},
   "source": [
    "Solution:"
   ]
  },
  {
   "cell_type": "code",
   "execution_count": 21,
   "id": "1c3810ea",
   "metadata": {},
   "outputs": [
    {
     "name": "stdout",
     "output_type": "stream",
     "text": [
      "{'a': {'name': 'Anne', 'Age': 22}, 'b': {'name': 'Luke', 'Age': 55}}\n"
     ]
    }
   ],
   "source": [
    "my_dict = {'a' : {'name': 'Anne', 'Age': 22}, 'b' : {'name': 'Luke', 'Age': 55}}\n",
    "print(my_dict)"
   ]
  },
  {
   "cell_type": "code",
   "execution_count": 22,
   "id": "e4427be8",
   "metadata": {},
   "outputs": [
    {
     "name": "stdout",
     "output_type": "stream",
     "text": [
      "{\n",
      "    \"a\": {\n",
      "        \"name\": \"Anne\",\n",
      "        \"Age\": 22\n",
      "    },\n",
      "    \"b\": {\n",
      "        \"name\": \"Luke\",\n",
      "        \"Age\": 55\n",
      "    }\n",
      "}\n"
     ]
    }
   ],
   "source": [
    "import json\n",
    "\n",
    "print(json.dumps(my_dict, indent=4))"
   ]
  },
  {
   "cell_type": "code",
   "execution_count": null,
   "id": "797f7dea",
   "metadata": {},
   "outputs": [],
   "source": []
  }
 ],
 "metadata": {
  "kernelspec": {
   "display_name": "Python 3 (ipykernel)",
   "language": "python",
   "name": "python3"
  },
  "language_info": {
   "codemirror_mode": {
    "name": "ipython",
    "version": 3
   },
   "file_extension": ".py",
   "mimetype": "text/x-python",
   "name": "python",
   "nbconvert_exporter": "python",
   "pygments_lexer": "ipython3",
   "version": "3.11.5"
  }
 },
 "nbformat": 4,
 "nbformat_minor": 5
}
