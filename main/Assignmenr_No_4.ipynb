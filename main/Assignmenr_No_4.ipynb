{
 "cells": [
  {
   "cell_type": "markdown",
   "id": "4999b7ab",
   "metadata": {},
   "source": [
    "Question 1"
   ]
  },
  {
   "cell_type": "markdown",
   "id": "c7688e30",
   "metadata": {},
   "source": [
    "What exactly is []?"
   ]
  },
  {
   "cell_type": "markdown",
   "id": "6a46c821",
   "metadata": {},
   "source": [
    "Solution"
   ]
  },
  {
   "cell_type": "markdown",
   "id": "d4ada563",
   "metadata": {},
   "source": [
    "[] represents an empty list in Python."
   ]
  },
  {
   "cell_type": "code",
   "execution_count": 1,
   "id": "3a57afc5",
   "metadata": {},
   "outputs": [
    {
     "name": "stdout",
     "output_type": "stream",
     "text": [
      "<class 'list'>\n"
     ]
    }
   ],
   "source": [
    "my_list = []\n",
    "print(type(my_list))"
   ]
  },
  {
   "cell_type": "markdown",
   "id": "61136d02",
   "metadata": {},
   "source": [
    "Question 2"
   ]
  },
  {
   "cell_type": "markdown",
   "id": "8095fc22",
   "metadata": {},
   "source": [
    ". In a list of values stored in a variable called spam, how would you assign the value 'hello' as the third value? (Assume [2, 4, 6, 8, 10] are in spam.)"
   ]
  },
  {
   "cell_type": "markdown",
   "id": "35397211",
   "metadata": {},
   "source": [
    "Solution"
   ]
  },
  {
   "cell_type": "code",
   "execution_count": 3,
   "id": "024185db",
   "metadata": {},
   "outputs": [
    {
     "name": "stdout",
     "output_type": "stream",
     "text": [
      "Original list : [2, 4, 6, 8, 10]\n",
      "Third value is : 6\n",
      "New list becomes : [2, 4, 'hello', 8, 10]\n"
     ]
    }
   ],
   "source": [
    "# define spam\n",
    "spam = [2, 4, 6, 8, 10]\n",
    "\n",
    "# assign hello as third value\n",
    "print(f\"Original list : {spam}\")\n",
    "print(f\"Third value is : {spam[2]}\")\n",
    "spam[2] = \"hello\"\n",
    "\n",
    "print(f\"New list becomes : {spam}\")"
   ]
  },
  {
   "cell_type": "markdown",
   "id": "039097e1",
   "metadata": {},
   "source": [
    "Question 3"
   ]
  },
  {
   "cell_type": "markdown",
   "id": "84be33cf",
   "metadata": {},
   "source": [
    "Let's pretend the spam includes the list ['a', 'b', 'c', 'd'] for the next three queries.\n",
    "What is the value of spam[int(int('3' * 2) / 11)]?\n"
   ]
  },
  {
   "cell_type": "markdown",
   "id": "22813fa6",
   "metadata": {},
   "source": [
    "Solution"
   ]
  },
  {
   "cell_type": "markdown",
   "id": "7b4c5b23",
   "metadata": {},
   "source": [
    "Steps,\n",
    "\n",
    "1) spam[int(int('3'*2)/11)]\n",
    "2) spam[int(int('33')/11)]\n",
    "3) spam[int(33/11)]\n",
    "4) spam[int(3.0)]\n",
    "5) spam[3] = 'd'"
   ]
  },
  {
   "cell_type": "code",
   "execution_count": 4,
   "id": "c4468147",
   "metadata": {},
   "outputs": [
    {
     "data": {
      "text/plain": [
       "'d'"
      ]
     },
     "execution_count": 4,
     "metadata": {},
     "output_type": "execute_result"
    }
   ],
   "source": [
    "spam = ['a', 'b', 'c', 'd']\n",
    "spam[int(int('3'*2)/11)]"
   ]
  },
  {
   "cell_type": "markdown",
   "id": "8314d83c",
   "metadata": {},
   "source": [
    "Question 4\n"
   ]
  },
  {
   "cell_type": "markdown",
   "id": "e032e2e9",
   "metadata": {},
   "source": [
    "What is the value of spam[-1]?\n"
   ]
  },
  {
   "cell_type": "markdown",
   "id": "2459dd6e",
   "metadata": {},
   "source": [
    "Solution"
   ]
  },
  {
   "cell_type": "code",
   "execution_count": 5,
   "id": "c0599391",
   "metadata": {},
   "outputs": [
    {
     "data": {
      "text/plain": [
       "'d'"
      ]
     },
     "execution_count": 5,
     "metadata": {},
     "output_type": "execute_result"
    }
   ],
   "source": [
    "spam = ['a', 'b', 'c', 'd']\n",
    "spam[-1]"
   ]
  },
  {
   "cell_type": "markdown",
   "id": "99f22bcf",
   "metadata": {},
   "source": [
    "Question 5"
   ]
  },
  {
   "cell_type": "markdown",
   "id": "cd2b5417",
   "metadata": {},
   "source": [
    "What is the value of spam[:2]?\n"
   ]
  },
  {
   "cell_type": "markdown",
   "id": "6d5de506",
   "metadata": {},
   "source": [
    "Solution"
   ]
  },
  {
   "cell_type": "markdown",
   "id": "4686e584",
   "metadata": {},
   "source": [
    "This is called string slicing."
   ]
  },
  {
   "cell_type": "code",
   "execution_count": 7,
   "id": "20a79d4e",
   "metadata": {},
   "outputs": [
    {
     "data": {
      "text/plain": [
       "['a', 'b']"
      ]
     },
     "execution_count": 7,
     "metadata": {},
     "output_type": "execute_result"
    }
   ],
   "source": [
    "spam = ['a', 'b', 'c', 'd']\n",
    "spam[:2]"
   ]
  },
  {
   "cell_type": "markdown",
   "id": "b9d49463",
   "metadata": {},
   "source": [
    "Question 6"
   ]
  },
  {
   "cell_type": "markdown",
   "id": "81d78513",
   "metadata": {},
   "source": [
    "Let's pretend bacon has the list [3.14, 'cat,' 11, 'cat,' True] for the next three questions.\n"
   ]
  },
  {
   "cell_type": "markdown",
   "id": "30bbb6aa",
   "metadata": {},
   "source": [
    " What is the value of bacon.index('cat')?"
   ]
  },
  {
   "cell_type": "markdown",
   "id": "657e70f7",
   "metadata": {},
   "source": [
    "Returns first occurance index."
   ]
  },
  {
   "cell_type": "code",
   "execution_count": 8,
   "id": "00535d54",
   "metadata": {},
   "outputs": [
    {
     "data": {
      "text/plain": [
       "1"
      ]
     },
     "execution_count": 8,
     "metadata": {},
     "output_type": "execute_result"
    }
   ],
   "source": [
    "bacon = [3.14, 'cat', 11, 'cat', True]\n",
    "bacon.index('cat')"
   ]
  },
  {
   "cell_type": "markdown",
   "id": "70a2a60c",
   "metadata": {},
   "source": [
    "Question 7"
   ]
  },
  {
   "cell_type": "markdown",
   "id": "a7b1f811",
   "metadata": {},
   "source": [
    "How does bacon.append(99) change the look of the list value in bacon?\n"
   ]
  },
  {
   "cell_type": "markdown",
   "id": "aba7a7b5",
   "metadata": {},
   "source": [
    "Solution"
   ]
  },
  {
   "cell_type": "code",
   "execution_count": 9,
   "id": "010d3182",
   "metadata": {},
   "outputs": [
    {
     "name": "stdout",
     "output_type": "stream",
     "text": [
      "Original List : [3.14, 'cat', 11, 'cat', True]\n",
      "Updated List : [3.14, 'cat', 11, 'cat', True, 99]\n"
     ]
    }
   ],
   "source": [
    "bacon = [3.14, 'cat', 11, 'cat', True]\n",
    "\n",
    "print(f\"Original List : {bacon}\")\n",
    "bacon.append(99)\n",
    "print(f\"Updated List : {bacon}\")"
   ]
  },
  {
   "cell_type": "markdown",
   "id": "5eeff8bc",
   "metadata": {},
   "source": [
    "Question 8"
   ]
  },
  {
   "cell_type": "markdown",
   "id": "56dc5881",
   "metadata": {},
   "source": [
    "How does bacon.remove('cat') change the look of the list in bacon?\n"
   ]
  },
  {
   "cell_type": "markdown",
   "id": "84d3d619",
   "metadata": {},
   "source": [
    "Solution"
   ]
  },
  {
   "cell_type": "markdown",
   "id": "ef0a204f",
   "metadata": {},
   "source": [
    "Removes first instance of 'cat'"
   ]
  },
  {
   "cell_type": "code",
   "execution_count": 10,
   "id": "773bc258",
   "metadata": {},
   "outputs": [
    {
     "name": "stdout",
     "output_type": "stream",
     "text": [
      "Original List : [3.14, 'cat', 11, 'cat', True]\n",
      "Updated List : [3.14, 11, 'cat', True]\n"
     ]
    }
   ],
   "source": [
    "bacon = [3.14, 'cat', 11, 'cat', True]\n",
    "\n",
    "print(f\"Original List : {bacon}\")\n",
    "bacon.remove('cat')\n",
    "print(f\"Updated List : {bacon}\")"
   ]
  },
  {
   "cell_type": "markdown",
   "id": "0c1b127a",
   "metadata": {},
   "source": [
    "Question 9"
   ]
  },
  {
   "cell_type": "markdown",
   "id": "83b2b978",
   "metadata": {},
   "source": [
    "What are the list concatenation and list replication operators?\n"
   ]
  },
  {
   "cell_type": "markdown",
   "id": "7645c069",
   "metadata": {},
   "source": [
    "Solution"
   ]
  },
  {
   "cell_type": "markdown",
   "id": "d178e93d",
   "metadata": {},
   "source": [
    "Operator used for list concatenation is +, whereas operator used for list replication is *."
   ]
  },
  {
   "cell_type": "code",
   "execution_count": 11,
   "id": "da00689c",
   "metadata": {},
   "outputs": [
    {
     "data": {
      "text/plain": [
       "['hello', 'my', 'name', 'is', 'Dipali']"
      ]
     },
     "execution_count": 11,
     "metadata": {},
     "output_type": "execute_result"
    }
   ],
   "source": [
    "# list concatenation\n",
    "\n",
    "list_a = ['hello', 'my', 'name']\n",
    "list_b = ['is', 'Dipali']\n",
    "\n",
    "list_a + list_b"
   ]
  },
  {
   "cell_type": "code",
   "execution_count": 12,
   "id": "7136b12b",
   "metadata": {},
   "outputs": [
    {
     "data": {
      "text/plain": [
       "['3', 'tom', True, '3', 'tom', True]"
      ]
     },
     "execution_count": 12,
     "metadata": {},
     "output_type": "execute_result"
    }
   ],
   "source": [
    "# list replication\n",
    "\n",
    "list_a = ['3', 'tom', True]\n",
    "\n",
    "list_a*2"
   ]
  },
  {
   "cell_type": "markdown",
   "id": "117d28aa",
   "metadata": {},
   "source": [
    "Question 10"
   ]
  },
  {
   "cell_type": "markdown",
   "id": "c4292230",
   "metadata": {},
   "source": [
    "What is difference between the list methods append() and insert()?\n"
   ]
  },
  {
   "cell_type": "markdown",
   "id": "9ddd297d",
   "metadata": {},
   "source": [
    "Solution"
   ]
  },
  {
   "cell_type": "code",
   "execution_count": 13,
   "id": "9dd1f910",
   "metadata": {},
   "outputs": [
    {
     "name": "stdout",
     "output_type": "stream",
     "text": [
      "Help on method_descriptor:\n",
      "\n",
      "append(self, object, /)\n",
      "    Append object to the end of the list.\n",
      "\n"
     ]
    }
   ],
   "source": [
    "help(list.append)"
   ]
  },
  {
   "cell_type": "code",
   "execution_count": 14,
   "id": "4d25ebf3",
   "metadata": {},
   "outputs": [
    {
     "name": "stdout",
     "output_type": "stream",
     "text": [
      "Help on method_descriptor:\n",
      "\n",
      "insert(self, index, object, /)\n",
      "    Insert object before index.\n",
      "\n"
     ]
    }
   ],
   "source": [
    "help(list.insert)"
   ]
  },
  {
   "cell_type": "markdown",
   "id": "9bede54f",
   "metadata": {},
   "source": [
    "Append inserts an element to the end of the list, whereas insert method make use of index parameter to insert an element in the list."
   ]
  },
  {
   "cell_type": "code",
   "execution_count": 15,
   "id": "99cdf457",
   "metadata": {},
   "outputs": [
    {
     "name": "stdout",
     "output_type": "stream",
     "text": [
      "Original List : [1, 2, 3, 5]\n",
      "Updated List : [1, 2, 3, 5, 6]\n",
      "Inserting value 4 at index no 3\n",
      "Updated List : [1, 2, 3, 4, 5, 6]\n"
     ]
    }
   ],
   "source": [
    "my_list = [1, 2, 3, 5]\n",
    "\n",
    "append_6 = 6\n",
    "insert_4 = 4\n",
    "\n",
    "# append operation\n",
    "print(f\"Original List : {my_list}\")\n",
    "my_list.append(append_6)\n",
    "print(f\"Updated List : {my_list}\")\n",
    "\n",
    "# insert operation\n",
    "print(f\"Inserting value 4 at index no 3\")\n",
    "my_list.insert(3, insert_4,)\n",
    "print(f\"Updated List : {my_list}\")"
   ]
  },
  {
   "cell_type": "markdown",
   "id": "2e8b2b24",
   "metadata": {},
   "source": [
    "Question 11"
   ]
  },
  {
   "cell_type": "markdown",
   "id": "64be4cd6",
   "metadata": {},
   "source": [
    "What are the two methods for removing items from a list?\n"
   ]
  },
  {
   "cell_type": "markdown",
   "id": "2dd87e7a",
   "metadata": {},
   "source": [
    "Solution"
   ]
  },
  {
   "cell_type": "code",
   "execution_count": 16,
   "id": "54deaa63",
   "metadata": {},
   "outputs": [],
   "source": [
    "# define a list\n",
    "my_list = ['cat', 12, True, 213.23, \"dog\"]"
   ]
  },
  {
   "cell_type": "code",
   "execution_count": 17,
   "id": "c3f406e4",
   "metadata": {},
   "outputs": [
    {
     "name": "stdout",
     "output_type": "stream",
     "text": [
      "Help on method_descriptor:\n",
      "\n",
      "remove(self, value, /)\n",
      "    Remove first occurrence of value.\n",
      "    \n",
      "    Raises ValueError if the value is not present.\n",
      "\n"
     ]
    }
   ],
   "source": [
    "# using remove()\n",
    "help(list.remove)"
   ]
  },
  {
   "cell_type": "code",
   "execution_count": 18,
   "id": "7d7b695d",
   "metadata": {},
   "outputs": [
    {
     "data": {
      "text/plain": [
       "['cat', 12, 213.23, 'dog']"
      ]
     },
     "execution_count": 18,
     "metadata": {},
     "output_type": "execute_result"
    }
   ],
   "source": [
    "my_list.remove(True)\n",
    "my_list"
   ]
  },
  {
   "cell_type": "code",
   "execution_count": 19,
   "id": "eea1e40f",
   "metadata": {},
   "outputs": [
    {
     "data": {
      "text/plain": [
       "['cat', 213.23, 'dog']"
      ]
     },
     "execution_count": 19,
     "metadata": {},
     "output_type": "execute_result"
    }
   ],
   "source": [
    "# using del, removes specific index\n",
    "del my_list[1]\n",
    "my_list"
   ]
  },
  {
   "cell_type": "code",
   "execution_count": 20,
   "id": "97b5fc31",
   "metadata": {},
   "outputs": [
    {
     "name": "stdout",
     "output_type": "stream",
     "text": [
      "Help on method_descriptor:\n",
      "\n",
      "pop(self, index=-1, /)\n",
      "    Remove and return item at index (default last).\n",
      "    \n",
      "    Raises IndexError if list is empty or index is out of range.\n",
      "\n"
     ]
    }
   ],
   "source": [
    "# using pop\n",
    "help(list.pop)"
   ]
  },
  {
   "cell_type": "code",
   "execution_count": 21,
   "id": "685ed1dc",
   "metadata": {},
   "outputs": [
    {
     "data": {
      "text/plain": [
       "[213.23, 'dog']"
      ]
     },
     "execution_count": 21,
     "metadata": {},
     "output_type": "execute_result"
    }
   ],
   "source": [
    "my_list.pop(0) # removes first element\n",
    "my_list"
   ]
  },
  {
   "cell_type": "markdown",
   "id": "e2bc733f",
   "metadata": {},
   "source": [
    "Question 12"
   ]
  },
  {
   "cell_type": "markdown",
   "id": "dbe0081d",
   "metadata": {},
   "source": [
    "Describe how list values and string values are identical.\n"
   ]
  },
  {
   "cell_type": "markdown",
   "id": "7e73926a",
   "metadata": {},
   "source": [
    "Solution"
   ]
  },
  {
   "cell_type": "markdown",
   "id": "a2a55eea",
   "metadata": {},
   "source": [
    "We can use loops, concatenation, replication methods, slicing to both list values and string values."
   ]
  },
  {
   "cell_type": "code",
   "execution_count": 22,
   "id": "7267d4d4",
   "metadata": {},
   "outputs": [],
   "source": [
    "string = \"mycat\"\n",
    "my_list = ['m', 'y', 'c', 'a', 't']"
   ]
  },
  {
   "cell_type": "code",
   "execution_count": 23,
   "id": "2c464e3b",
   "metadata": {},
   "outputs": [
    {
     "data": {
      "text/plain": [
       "(5, 5)"
      ]
     },
     "execution_count": 23,
     "metadata": {},
     "output_type": "execute_result"
    }
   ],
   "source": [
    "# using length method\n",
    "len(string), len(my_list)"
   ]
  },
  {
   "cell_type": "code",
   "execution_count": 24,
   "id": "49b4a299",
   "metadata": {},
   "outputs": [
    {
     "data": {
      "text/plain": [
       "('my', ['m', 'y'])"
      ]
     },
     "execution_count": 24,
     "metadata": {},
     "output_type": "execute_result"
    }
   ],
   "source": [
    "# slicing first 2 characters\n",
    "string[:2], my_list[:2]"
   ]
  },
  {
   "cell_type": "code",
   "execution_count": 25,
   "id": "6172c65c",
   "metadata": {},
   "outputs": [
    {
     "data": {
      "text/plain": [
       "(True, True)"
      ]
     },
     "execution_count": 25,
     "metadata": {},
     "output_type": "execute_result"
    }
   ],
   "source": [
    "# check if t in string and list\n",
    "'t' in string, 't' in my_list"
   ]
  },
  {
   "cell_type": "code",
   "execution_count": 26,
   "id": "4e1d1ad4",
   "metadata": {},
   "outputs": [
    {
     "data": {
      "text/plain": [
       "('mycats', ['m', 'y', 'c', 'a', 't', 's'])"
      ]
     },
     "execution_count": 26,
     "metadata": {},
     "output_type": "execute_result"
    }
   ],
   "source": [
    "# concatination\n",
    "string + 's', my_list + ['s']"
   ]
  },
  {
   "cell_type": "markdown",
   "id": "a06e2a68",
   "metadata": {},
   "source": [
    "Question 13"
   ]
  },
  {
   "cell_type": "markdown",
   "id": "5f48b41d",
   "metadata": {},
   "source": [
    "What's the difference between tuples and lists?\n"
   ]
  },
  {
   "cell_type": "markdown",
   "id": "dbd49813",
   "metadata": {},
   "source": [
    "Solution"
   ]
  },
  {
   "cell_type": "markdown",
   "id": "f16b1dc9",
   "metadata": {},
   "source": [
    "Tuple: Mutable, values can be modified.\n",
    "       Better for insertion and deletion.\n",
    "       \n",
    "List:  Immutable, values cannot be modified.\n",
    "       Better for accessing the values."
   ]
  },
  {
   "cell_type": "code",
   "execution_count": 27,
   "id": "cb0eb8e7",
   "metadata": {},
   "outputs": [
    {
     "data": {
      "text/plain": [
       "[100, 2, 3, 4]"
      ]
     },
     "execution_count": 27,
     "metadata": {},
     "output_type": "execute_result"
    }
   ],
   "source": [
    "my_list = [1,2,3,4]\n",
    "my_tuple = (1,2,3,4)\n",
    "my_list[0] = 100\n",
    "my_list"
   ]
  },
  {
   "cell_type": "code",
   "execution_count": 28,
   "id": "83b9a080",
   "metadata": {},
   "outputs": [
    {
     "ename": "TypeError",
     "evalue": "'tuple' object does not support item assignment",
     "output_type": "error",
     "traceback": [
      "\u001b[1;31m---------------------------------------------------------------------------\u001b[0m",
      "\u001b[1;31mTypeError\u001b[0m                                 Traceback (most recent call last)",
      "Cell \u001b[1;32mIn[28], line 1\u001b[0m\n\u001b[1;32m----> 1\u001b[0m my_tuple[\u001b[38;5;241m0\u001b[39m] \u001b[38;5;241m=\u001b[39m \u001b[38;5;241m100\u001b[39m\n\u001b[0;32m      2\u001b[0m my_tuple\n",
      "\u001b[1;31mTypeError\u001b[0m: 'tuple' object does not support item assignment"
     ]
    }
   ],
   "source": [
    "my_tuple[0] = 100\n",
    "my_tuple"
   ]
  },
  {
   "cell_type": "code",
   "execution_count": 29,
   "id": "6298a7ce",
   "metadata": {},
   "outputs": [
    {
     "data": {
      "text/plain": [
       "(72, 56)"
      ]
     },
     "execution_count": 29,
     "metadata": {},
     "output_type": "execute_result"
    }
   ],
   "source": [
    "# size allocated in memory difference\n",
    "my_list.__sizeof__(), my_tuple.__sizeof__()"
   ]
  },
  {
   "cell_type": "markdown",
   "id": "deba9d43",
   "metadata": {},
   "source": [
    "Question 14"
   ]
  },
  {
   "cell_type": "markdown",
   "id": "328f97c9",
   "metadata": {},
   "source": [
    "How do you type a tuple value that only contains the integer 42?\n"
   ]
  },
  {
   "cell_type": "markdown",
   "id": "495c5a94",
   "metadata": {},
   "source": [
    "Solution"
   ]
  },
  {
   "cell_type": "code",
   "execution_count": 30,
   "id": "c421dd67",
   "metadata": {},
   "outputs": [
    {
     "data": {
      "text/plain": [
       "((42,), tuple)"
      ]
     },
     "execution_count": 30,
     "metadata": {},
     "output_type": "execute_result"
    }
   ],
   "source": [
    "my_tuple = (42,)\n",
    "my_tuple, type(my_tuple)"
   ]
  },
  {
   "cell_type": "markdown",
   "id": "65879c85",
   "metadata": {},
   "source": [
    "Question 15"
   ]
  },
  {
   "cell_type": "markdown",
   "id": "68081e3f",
   "metadata": {},
   "source": [
    "How do you get a list value's tuple form? How do you get a tuple value's list form?\n"
   ]
  },
  {
   "cell_type": "markdown",
   "id": "66ac42f4",
   "metadata": {},
   "source": [
    "Solution"
   ]
  },
  {
   "cell_type": "code",
   "execution_count": 34,
   "id": "18d82cf0",
   "metadata": {},
   "outputs": [
    {
     "name": "stdout",
     "output_type": "stream",
     "text": [
      "(1, 2, 3, 4)\n"
     ]
    }
   ],
   "source": [
    "my_list = [1,2,3,4]\n",
    "print(tuple(my_list))\n"
   ]
  },
  {
   "cell_type": "code",
   "execution_count": 35,
   "id": "7b215253",
   "metadata": {},
   "outputs": [
    {
     "name": "stdout",
     "output_type": "stream",
     "text": [
      "[1, 2, 3, 4]\n"
     ]
    }
   ],
   "source": [
    "my_tuple = (1,2,3,4)\n",
    "print(list(my_tuple))"
   ]
  },
  {
   "cell_type": "markdown",
   "id": "cf9c1078",
   "metadata": {},
   "source": [
    "Question 16"
   ]
  },
  {
   "cell_type": "markdown",
   "id": "acc58c73",
   "metadata": {},
   "source": [
    "Variables that contain list values are not necessarily lists themselves. Instead, what do they contain?"
   ]
  },
  {
   "cell_type": "markdown",
   "id": "7ad835b2",
   "metadata": {},
   "source": [
    "Solution"
   ]
  },
  {
   "cell_type": "markdown",
   "id": "5deba969",
   "metadata": {},
   "source": [
    "Variables do not store values directly.\n",
    "\n",
    "Python variables work with references to objects representing the values.\n",
    "\n",
    "For example, we have\n",
    "\n",
    "a = [1,2,3]\n",
    "\n",
    "Python creates a new reference for a to point at the object representing the value [1,2,3] in the memory."
   ]
  },
  {
   "cell_type": "markdown",
   "id": "fe8dac99",
   "metadata": {},
   "source": [
    "Question 17"
   ]
  },
  {
   "cell_type": "markdown",
   "id": "4df68284",
   "metadata": {},
   "source": [
    "How do you distinguish between copy.copy() and copy.deepcopy()?\n"
   ]
  },
  {
   "cell_type": "markdown",
   "id": "4d092b46",
   "metadata": {},
   "source": [
    "Solution"
   ]
  },
  {
   "cell_type": "markdown",
   "id": "9d6c23aa",
   "metadata": {},
   "source": [
    "Let's understand by an example,"
   ]
  },
  {
   "cell_type": "code",
   "execution_count": 36,
   "id": "3ec7b634",
   "metadata": {},
   "outputs": [],
   "source": [
    "# import copy module\n",
    "import copy\n",
    "\n",
    "# initialize our list\n",
    "my_list = [1, [2, 3], 4]"
   ]
  },
  {
   "cell_type": "code",
   "execution_count": 37,
   "id": "776822c7",
   "metadata": {},
   "outputs": [
    {
     "name": "stdout",
     "output_type": "stream",
     "text": [
      "2791703203264\n",
      "2791716401920\n",
      "2791716402368\n",
      "2791716402368\n"
     ]
    }
   ],
   "source": [
    "copy_list = copy.copy(my_list)\n",
    "\n",
    "print(id(my_list))\n",
    "print(id(copy_list))\n",
    "\n",
    "print(id(my_list[1]))\n",
    "print(id(copy_list[1]))"
   ]
  },
  {
   "cell_type": "markdown",
   "id": "3bed4214",
   "metadata": {},
   "source": [
    "copy_list becomes new object but my_list[1] is same object as copy_list[1]"
   ]
  },
  {
   "cell_type": "code",
   "execution_count": 38,
   "id": "b644497d",
   "metadata": {},
   "outputs": [
    {
     "name": "stdout",
     "output_type": "stream",
     "text": [
      "2791703203264\n",
      "2791716441024\n",
      "2791716402368\n",
      "2791716404224\n"
     ]
    }
   ],
   "source": [
    "deepcopy_list = copy.deepcopy(my_list)\n",
    "\n",
    "print(id(my_list))\n",
    "print(id(deepcopy_list))\n",
    "\n",
    "print(id(my_list[1]))\n",
    "print(id(deepcopy_list[1]))"
   ]
  },
  {
   "cell_type": "markdown",
   "id": "32300838",
   "metadata": {},
   "source": [
    "deepcopy_list becomes new object and my_list[1] is new object"
   ]
  },
  {
   "cell_type": "code",
   "execution_count": null,
   "id": "f9906e19",
   "metadata": {},
   "outputs": [],
   "source": []
  }
 ],
 "metadata": {
  "kernelspec": {
   "display_name": "Python 3 (ipykernel)",
   "language": "python",
   "name": "python3"
  },
  "language_info": {
   "codemirror_mode": {
    "name": "ipython",
    "version": 3
   },
   "file_extension": ".py",
   "mimetype": "text/x-python",
   "name": "python",
   "nbconvert_exporter": "python",
   "pygments_lexer": "ipython3",
   "version": "3.11.5"
  }
 },
 "nbformat": 4,
 "nbformat_minor": 5
}
