{
 "cells": [
  {
   "cell_type": "markdown",
   "id": "2f69267c",
   "metadata": {},
   "source": [
    "1.What are the two values of the Boolean data type? How do you write them?"
   ]
  },
  {
   "cell_type": "markdown",
   "id": "9c3c1e22",
   "metadata": {},
   "source": [
    "Solution:"
   ]
  },
  {
   "cell_type": "markdown",
   "id": "797affc2",
   "metadata": {},
   "source": [
    "The boolean data type allows us to choose between two values,\n",
    "\n",
    "True\n",
    "False"
   ]
  },
  {
   "cell_type": "code",
   "execution_count": 1,
   "id": "b37bea86",
   "metadata": {},
   "outputs": [
    {
     "name": "stdout",
     "output_type": "stream",
     "text": [
      "True\n",
      "False\n"
     ]
    }
   ],
   "source": [
    "print(True)\n",
    "\n",
    "f_bool = False\n",
    "print(f_bool)"
   ]
  },
  {
   "cell_type": "code",
   "execution_count": 2,
   "id": "53e233af",
   "metadata": {},
   "outputs": [
    {
     "name": "stdout",
     "output_type": "stream",
     "text": [
      "True\n",
      "False\n"
     ]
    }
   ],
   "source": [
    "print(10>9)\n",
    "print(100<10)"
   ]
  },
  {
   "cell_type": "markdown",
   "id": "4f3b126f",
   "metadata": {},
   "source": [
    "2.What are the three different types of Boolean operators?\n",
    "\n",
    "Solution"
   ]
  },
  {
   "cell_type": "code",
   "execution_count": 3,
   "id": "c6c83ce2",
   "metadata": {},
   "outputs": [
    {
     "name": "stdout",
     "output_type": "stream",
     "text": [
      "False\n",
      "True\n",
      "False\n"
     ]
    }
   ],
   "source": [
    "# AND operator\n",
    "print(True and False)\n",
    "\n",
    "# OR operator\n",
    "print(True or False)\n",
    "\n",
    "# NOT operator\n",
    "print(not True)"
   ]
  },
  {
   "cell_type": "markdown",
   "id": "21baf368",
   "metadata": {},
   "source": [
    "3.Make a list of each Boolean operator's truth tables (i.e. every possible combination of Boolean values for the operator and what it evaluate).\n",
    "\n",
    "Solution"
   ]
  },
  {
   "cell_type": "code",
   "execution_count": 4,
   "id": "42ecd98e",
   "metadata": {},
   "outputs": [
    {
     "name": "stdout",
     "output_type": "stream",
     "text": [
      "True\n",
      "False\n",
      "False\n",
      "False\n"
     ]
    }
   ],
   "source": [
    "# AND opertor\n",
    "\n",
    "print(True and True)\n",
    "print(True and False)\n",
    "print(False and True)\n",
    "print(False and False)"
   ]
  },
  {
   "cell_type": "code",
   "execution_count": 5,
   "id": "3bd5f3b4",
   "metadata": {},
   "outputs": [
    {
     "name": "stdout",
     "output_type": "stream",
     "text": [
      "True\n",
      "True\n",
      "True\n",
      "False\n"
     ]
    }
   ],
   "source": [
    "# OR operator\n",
    "\n",
    "print(True or True)\n",
    "print(True or False)\n",
    "print(False or True)\n",
    "print(False or False)"
   ]
  },
  {
   "cell_type": "code",
   "execution_count": 6,
   "id": "7af49c73",
   "metadata": {},
   "outputs": [
    {
     "name": "stdout",
     "output_type": "stream",
     "text": [
      "False\n",
      "True\n"
     ]
    }
   ],
   "source": [
    "# NOT operator\n",
    "\n",
    "print(not True)\n",
    "print(not False)"
   ]
  },
  {
   "cell_type": "markdown",
   "id": "84ee21f6",
   "metadata": {},
   "source": [
    "4.What are the values of the following expressions?\n",
    "\n",
    "Solution"
   ]
  },
  {
   "cell_type": "code",
   "execution_count": 7,
   "id": "01c092ed",
   "metadata": {},
   "outputs": [
    {
     "data": {
      "text/plain": [
       "False"
      ]
     },
     "execution_count": 7,
     "metadata": {},
     "output_type": "execute_result"
    }
   ],
   "source": [
    "(5 > 4) and (3 == 5)"
   ]
  },
  {
   "cell_type": "code",
   "execution_count": 8,
   "id": "0516c069",
   "metadata": {},
   "outputs": [
    {
     "data": {
      "text/plain": [
       "False"
      ]
     },
     "execution_count": 8,
     "metadata": {},
     "output_type": "execute_result"
    }
   ],
   "source": [
    "not (5 > 4)"
   ]
  },
  {
   "cell_type": "code",
   "execution_count": 9,
   "id": "b6f8bdcd",
   "metadata": {},
   "outputs": [
    {
     "data": {
      "text/plain": [
       "True"
      ]
     },
     "execution_count": 9,
     "metadata": {},
     "output_type": "execute_result"
    }
   ],
   "source": [
    "(5 > 4) or (3 == 5)"
   ]
  },
  {
   "cell_type": "code",
   "execution_count": 10,
   "id": "440fe2ca",
   "metadata": {},
   "outputs": [
    {
     "data": {
      "text/plain": [
       "False"
      ]
     },
     "execution_count": 10,
     "metadata": {},
     "output_type": "execute_result"
    }
   ],
   "source": [
    "not ((5 > 4) or (3 == 5))"
   ]
  },
  {
   "cell_type": "code",
   "execution_count": 11,
   "id": "45fef017",
   "metadata": {},
   "outputs": [
    {
     "data": {
      "text/plain": [
       "False"
      ]
     },
     "execution_count": 11,
     "metadata": {},
     "output_type": "execute_result"
    }
   ],
   "source": [
    "(True and True) and (True == False)"
   ]
  },
  {
   "cell_type": "code",
   "execution_count": 12,
   "id": "1c59133e",
   "metadata": {},
   "outputs": [
    {
     "data": {
      "text/plain": [
       "True"
      ]
     },
     "execution_count": 12,
     "metadata": {},
     "output_type": "execute_result"
    }
   ],
   "source": [
    "(not False) or (not True)"
   ]
  },
  {
   "cell_type": "markdown",
   "id": "3e3a112d",
   "metadata": {},
   "source": [
    "5.What are the six comparison operators?\n",
    "\n",
    "Solution"
   ]
  },
  {
   "cell_type": "code",
   "execution_count": 13,
   "id": "b25f04a8",
   "metadata": {},
   "outputs": [
    {
     "name": "stdout",
     "output_type": "stream",
     "text": [
      "False\n"
     ]
    }
   ],
   "source": [
    "# == operator\n",
    "print(10==9)"
   ]
  },
  {
   "cell_type": "code",
   "execution_count": 14,
   "id": "da54d857",
   "metadata": {},
   "outputs": [
    {
     "name": "stdout",
     "output_type": "stream",
     "text": [
      "True\n"
     ]
    }
   ],
   "source": [
    "# != operator\n",
    "print(10!=9)"
   ]
  },
  {
   "cell_type": "code",
   "execution_count": 15,
   "id": "adeaaa8f",
   "metadata": {},
   "outputs": [
    {
     "name": "stdout",
     "output_type": "stream",
     "text": [
      "True\n"
     ]
    }
   ],
   "source": [
    "# > operator\n",
    "print(10>9)"
   ]
  },
  {
   "cell_type": "code",
   "execution_count": 16,
   "id": "7e01e955",
   "metadata": {},
   "outputs": [
    {
     "name": "stdout",
     "output_type": "stream",
     "text": [
      "False\n"
     ]
    }
   ],
   "source": [
    "# < operator\n",
    "print(10<9)"
   ]
  },
  {
   "cell_type": "code",
   "execution_count": 17,
   "id": "86f72e30",
   "metadata": {},
   "outputs": [
    {
     "name": "stdout",
     "output_type": "stream",
     "text": [
      "True\n"
     ]
    }
   ],
   "source": [
    "# >= operator\n",
    "print(10>=10)"
   ]
  },
  {
   "cell_type": "code",
   "execution_count": 18,
   "id": "dfcb308e",
   "metadata": {},
   "outputs": [
    {
     "name": "stdout",
     "output_type": "stream",
     "text": [
      "False\n"
     ]
    }
   ],
   "source": [
    "# <= operator\n",
    "print(111<=100)"
   ]
  },
  {
   "cell_type": "markdown",
   "id": "7121fda1",
   "metadata": {},
   "source": [
    "6.How do you tell the difference between the equal to and assignment operators?Describe a condition and when you would use one.\n",
    "\n",
    "Solution"
   ]
  },
  {
   "cell_type": "code",
   "execution_count": 19,
   "id": "d49f94e1",
   "metadata": {},
   "outputs": [
    {
     "name": "stdout",
     "output_type": "stream",
     "text": [
      "Value of a is 10\n"
     ]
    }
   ],
   "source": [
    "# an equal to is an assignment operator, eg.\n",
    "\n",
    "a = 10\n",
    "print(f\"Value of a is {a}\")"
   ]
  },
  {
   "cell_type": "code",
   "execution_count": 20,
   "id": "6d3f2e39",
   "metadata": {},
   "outputs": [
    {
     "name": "stdout",
     "output_type": "stream",
     "text": [
      "Value of a is 10\n",
      "Value of a becomes 20\n"
     ]
    }
   ],
   "source": [
    "# we can use arthimetic operator with equal to sign to change value of a variable\n",
    "\n",
    "a = 10\n",
    "print(f\"Value of a is {10}\")\n",
    "\n",
    "# increase value of a by 10\n",
    "a += 10\n",
    "print(f\"Value of a becomes {a}\")"
   ]
  },
  {
   "cell_type": "code",
   "execution_count": 21,
   "id": "ecfe7c1e",
   "metadata": {},
   "outputs": [
    {
     "name": "stdout",
     "output_type": "stream",
     "text": [
      "Square of value 10 is 100\n"
     ]
    }
   ],
   "source": [
    "# similarly\n",
    "a = 10\n",
    "\n",
    "# an assignment operator by not changing the original value of the variable\n",
    "square_of_a = a**2\n",
    "print(f\"Square of value {a} is {square_of_a}\")"
   ]
  },
  {
   "cell_type": "markdown",
   "id": "7b69bd8b",
   "metadata": {},
   "source": [
    "7.Identify the three blocks in this code:\n",
    "\n",
    "spam = 0\n",
    "if spam == 10:\n",
    "print('eggs')\n",
    "if spam &gt; 5:\n",
    "print('bacon')\n",
    "else:\n",
    "print('ham')\n",
    "print('spam')\n",
    "print('spam')\n"
   ]
  },
  {
   "cell_type": "markdown",
   "id": "d4a22f6b",
   "metadata": {},
   "source": [
    "Solution:"
   ]
  },
  {
   "cell_type": "code",
   "execution_count": 22,
   "id": "c5b70a8c",
   "metadata": {},
   "outputs": [
    {
     "name": "stdout",
     "output_type": "stream",
     "text": [
      "ham\n",
      "spam\n",
      "spam\n"
     ]
    }
   ],
   "source": [
    "spam = 0\n",
    "\n",
    "if spam==10:\n",
    "    print('eggs')\n",
    "if spam>5:\n",
    "    print('bacon')\n",
    "else:\n",
    "    print('ham')\n",
    "print('spam')\n",
    "print('spam')\n",
    " "
   ]
  },
  {
   "cell_type": "markdown",
   "id": "86e86544",
   "metadata": {},
   "source": [
    "8.\n",
    "Write code that prints Hello if 1 is stored in spam, prints Howdy if 2 is stored in spam, and prints Greetings! if anything else is stored in spam.\n",
    "\n",
    "Solution"
   ]
  },
  {
   "cell_type": "code",
   "execution_count": 23,
   "id": "2ea4f06f",
   "metadata": {},
   "outputs": [
    {
     "name": "stdout",
     "output_type": "stream",
     "text": [
      "Enter Spam Value3\n",
      "Value of spam is 3\n",
      "Greetings!\n"
     ]
    }
   ],
   "source": [
    "spam = int(input(\"Enter Spam Value\"))\n",
    "\n",
    "print(f\"Value of spam is {spam}\")\n",
    "\n",
    "if spam==1:\n",
    "    print(\"Hello\")\n",
    "elif spam==2:\n",
    "    print(\"Howdy\")\n",
    "else:\n",
    "    print(\"Greetings!\")"
   ]
  },
  {
   "cell_type": "markdown",
   "id": "89e8585a",
   "metadata": {},
   "source": [
    "9.If your programme is stuck in an endless loop, what keys you’ll press?\n",
    "\n",
    "Solution"
   ]
  },
  {
   "cell_type": "markdown",
   "id": "9490f39b",
   "metadata": {},
   "source": [
    "ctrl+c to KeyboardInterrupt."
   ]
  },
  {
   "cell_type": "markdown",
   "id": "780bdaf6",
   "metadata": {},
   "source": [
    "10.How can you tell the difference between break and continue?\n",
    "\n",
    "Solution\n",
    " "
   ]
  },
  {
   "cell_type": "markdown",
   "id": "a8cf68aa",
   "metadata": {},
   "source": [
    "Python provides two keywords break and continue to be used in program as per the requirements"
   ]
  },
  {
   "cell_type": "code",
   "execution_count": 24,
   "id": "26994eab",
   "metadata": {},
   "outputs": [
    {
     "name": "stdout",
     "output_type": "stream",
     "text": [
      "0 is divisible by 5.\n",
      "1 is not divisible by 5.\n",
      "2 is not divisible by 5.\n",
      "3 is not divisible by 5.\n",
      "4 is not divisible by 5.\n",
      "5 is divisible by 5.\n",
      "6 is not divisible by 5.\n",
      "7 is not divisible by 5.\n",
      "8 is not divisible by 5.\n",
      "9 is not divisible by 5.\n",
      "10 is divisible by 5.\n"
     ]
    }
   ],
   "source": [
    "# print all numbers in range [0,10] and check if num is divisible by 5 \n",
    "# using while loop but without adding condition to while loop.\n",
    "\n",
    "num = 0 \n",
    "while True:\n",
    "    if num>10:\n",
    "        break\n",
    "    if num%5==0:\n",
    "        print(f\"{num} is divisible by 5.\")\n",
    "    else:\n",
    "        print(f\"{num} is not divisible by 5.\")\n",
    "\n",
    "    num += 1"
   ]
  },
  {
   "cell_type": "code",
   "execution_count": 25,
   "id": "687c2026",
   "metadata": {},
   "outputs": [
    {
     "name": "stdout",
     "output_type": "stream",
     "text": [
      " \n",
      "m\n",
      " \n",
      "l\n",
      "k\n",
      ",\n",
      " \n",
      "p\n",
      "r\n",
      "n\n",
      "c\n",
      " \n",
      "f\n",
      " \n",
      "s\n",
      "g\n",
      "r\n",
      "d\n"
     ]
    }
   ],
   "source": [
    "# print all letters except vowels from string\n",
    "\n",
    "string = \"i am loki, prince of asgard\"\n",
    "\n",
    "for i in string:\n",
    "    if i=='a' or i=='e' or i=='i' or i=='o' or i=='u':\n",
    "        continue\n",
    "    print(i) "
   ]
  },
  {
   "cell_type": "markdown",
   "id": "29cdd85f",
   "metadata": {},
   "source": [
    "11.In a for loop, what is the difference between range(10), range(0, 10), and range(0, 10, 1)?\n",
    "\n",
    "Solution"
   ]
  },
  {
   "cell_type": "markdown",
   "id": "1edb1e6d",
   "metadata": {},
   "source": [
    "range(10) and range(0,10) outputs same result, but in second case we are defining the start value.\n",
    "\n",
    "By definition, range function is range(start, stop, step)"
   ]
  },
  {
   "cell_type": "markdown",
   "id": "7943cba0",
   "metadata": {},
   "source": [
    "start : The value of the start parameter (or 0 if the parameter was not supplied) (inclusive)\n",
    "stop : The value of the stop parameter (exclusive)\n",
    "step : The value of the step parameter (or 1 if the parameter was not supplied) (specifies increament or decrement)"
   ]
  },
  {
   "cell_type": "code",
   "execution_count": 26,
   "id": "ec6fc0ce",
   "metadata": {},
   "outputs": [
    {
     "name": "stdout",
     "output_type": "stream",
     "text": [
      "0\n",
      "1\n",
      "2\n",
      "3\n"
     ]
    }
   ],
   "source": [
    "for i in range(4):\n",
    "    print(i)"
   ]
  },
  {
   "cell_type": "code",
   "execution_count": 27,
   "id": "e92b8fa2",
   "metadata": {},
   "outputs": [
    {
     "name": "stdout",
     "output_type": "stream",
     "text": [
      "1\n",
      "2\n",
      "3\n"
     ]
    }
   ],
   "source": [
    "for i in range(1, 4):\n",
    "    print(i)"
   ]
  },
  {
   "cell_type": "code",
   "execution_count": 28,
   "id": "754a3528",
   "metadata": {},
   "outputs": [
    {
     "name": "stdout",
     "output_type": "stream",
     "text": [
      "1\n",
      "3\n",
      "5\n",
      "7\n",
      "9\n"
     ]
    }
   ],
   "source": [
    "for i in range(1, 10, 2):\n",
    "    print(i)"
   ]
  },
  {
   "cell_type": "code",
   "execution_count": 29,
   "id": "d4d59e1d",
   "metadata": {},
   "outputs": [
    {
     "name": "stdout",
     "output_type": "stream",
     "text": [
      "10\n",
      "7\n",
      "4\n"
     ]
    }
   ],
   "source": [
    "for i in range(10, 2, -3):\n",
    "    print(i)"
   ]
  },
  {
   "cell_type": "markdown",
   "id": "ff722b8c",
   "metadata": {},
   "source": [
    "12. Write a short program that prints the numbers 1 to 10 using a for loop. Then write an equivalent program that prints the numbers 1 to 10 using a while loop.\n"
   ]
  },
  {
   "cell_type": "markdown",
   "id": "17a37d8b",
   "metadata": {},
   "source": [
    "Solution"
   ]
  },
  {
   "cell_type": "code",
   "execution_count": 30,
   "id": "66eb030e",
   "metadata": {
    "scrolled": true
   },
   "outputs": [
    {
     "name": "stdout",
     "output_type": "stream",
     "text": [
      "1\n",
      "2\n",
      "3\n",
      "4\n",
      "5\n",
      "6\n",
      "7\n",
      "8\n",
      "9\n",
      "10\n",
      "[1, 2, 3, 4, 5, 6, 7, 8, 9, 10]\n"
     ]
    }
   ],
   "source": [
    "#  for loop 1 to 10 (including 10)\n",
    "\n",
    "for num in range(1, 11):\n",
    "    print(num)\n",
    "\n",
    "#  [1, 2, 3, 4, 5, 6, 7, 8, 9, 10]\n",
    "print(list(range(1, 11)))"
   ]
  },
  {
   "cell_type": "code",
   "execution_count": 31,
   "id": "930a078c",
   "metadata": {},
   "outputs": [
    {
     "name": "stdout",
     "output_type": "stream",
     "text": [
      "1\n",
      "2\n",
      "3\n",
      "4\n",
      "5\n",
      "6\n",
      "7\n",
      "8\n",
      "9\n",
      "10\n"
     ]
    }
   ],
   "source": [
    "#using while loop\n",
    "number = 1\n",
    "\n",
    "while number <= 10:\n",
    "    print(number)\n",
    "    number += 1"
   ]
  },
  {
   "cell_type": "markdown",
   "id": "09e8de68",
   "metadata": {},
   "source": [
    "13. If you had a function named bacon() inside a module named spam, how would you call it after importing spam?\n",
    "\n"
   ]
  },
  {
   "cell_type": "markdown",
   "id": "597d8d02",
   "metadata": {},
   "source": [
    "Solution"
   ]
  },
  {
   "cell_type": "markdown",
   "id": "baaace87",
   "metadata": {},
   "source": [
    " We need to use spam.bacon()"
   ]
  },
  {
   "cell_type": "code",
   "execution_count": null,
   "id": "c2cefe09",
   "metadata": {},
   "outputs": [],
   "source": []
  }
 ],
 "metadata": {
  "kernelspec": {
   "display_name": "Python 3 (ipykernel)",
   "language": "python",
   "name": "python3"
  },
  "language_info": {
   "codemirror_mode": {
    "name": "ipython",
    "version": 3
   },
   "file_extension": ".py",
   "mimetype": "text/x-python",
   "name": "python",
   "nbconvert_exporter": "python",
   "pygments_lexer": "ipython3",
   "version": "3.11.5"
  }
 },
 "nbformat": 4,
 "nbformat_minor": 5
}
