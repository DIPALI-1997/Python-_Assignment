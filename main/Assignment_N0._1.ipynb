{
 "cells": [
  {
   "cell_type": "markdown",
   "id": "00defb81",
   "metadata": {},
   "source": [
    "# Assignment No. 1"
   ]
  },
  {
   "cell_type": "markdown",
   "id": "238bba5e",
   "metadata": {},
   "source": [
    "1. In the below elements which of them are values or an expression? eg:- values can be integer or string and expressions will be mathematical operators.\n",
    "* \n",
    "'hello'\n",
    "-87.8\n",
    "- \n",
    "/ \n",
    "\n",
    "\n",
    "6 \n",
    "Ans: \"hello\": It is a string value.\n",
    "     \"-87.8\": It is a floating potint value.\n",
    "     \"-,+,/,*\":That are the mathematical operator.\n",
    "     \" 6 \"  : It is an integer value.\n"
   ]
  },
  {
   "cell_type": "markdown",
   "id": "6647c5fb",
   "metadata": {},
   "source": [
    "2. What is the difference between string and variable?\n",
    "Ans: String: A string is a value representing text or a list of character in order.e.g.\"hello\"\n",
    "\n",
    "     Variable: A variable is a something that holds a value that may changed.e.g. lucky=7"
   ]
  },
  {
   "cell_type": "markdown",
   "id": "5f891c6c",
   "metadata": {},
   "source": [
    "3. Describe three different data types.\n",
    "Ans:1.int: holds signed integers of non-limited length.Ex. 23,45,2.etc.\n",
    "\n",
    "    2.float: holds floating decimal points and is accurate up to 15 decimal places.Ex.2.5,45.7,etc.\n",
    "    \n",
    "    3.complex: holds complex numbers.Ex. a+3b,etc."
   ]
  },
  {
   "cell_type": "markdown",
   "id": "13e98c35",
   "metadata": {},
   "source": [
    "4. What is an expression made up of? What do all expressions do?\n",
    "Ans:Expression: An expression is a combination of operators, constants and variables. An expression may consist of one or more \n",
    "    operands, and zero or more operators to produce a value.\n",
    "    \n",
    "    Ex:If you ask python to print an expression,the interpreter evaluates the expression and display the result .\n",
    "        e.g.print(43+1)\n",
    "        #will print 54\n",
    "\n"
   ]
  },
  {
   "cell_type": "markdown",
   "id": "8d3bb1cd",
   "metadata": {},
   "source": [
    "5. This assignment statements, like spam = 10. What is the difference between an expression and a statement?\n",
    "Ans:Statement:It is an instruction that the python interpreter can execute. \"spam=10\" is an example of assignment statement.\n",
    "              That contain one or more expression. e.g spam=10,print(spam)\n",
    "            \n",
    "    Expression:It is a combionation of values, variable, operators and function calls that can be evaluated to produced a value.\n",
    "               It cannot contain the statement.e.g spam+10"
   ]
  },
  {
   "cell_type": "markdown",
   "id": "8268ad05",
   "metadata": {},
   "source": [
    "6. After running the following code, what does the variable bacon contain?\n",
    "bacon = 22\n",
    "bacon + 1\n",
    "Ans:22, Bacause bacon + 1 is not stored in any variable."
   ]
  },
  {
   "cell_type": "markdown",
   "id": "d86960e5",
   "metadata": {},
   "source": [
    "7. What should the values of the following two terms be?\n",
    "'spam' + 'spamspam'\n",
    "'spam' * 3\n",
    "Ans: 'spam' + 'spamspam' : spamspamspam\n",
    "     'spam' * 3 : spamspamspam "
   ]
  },
  {
   "cell_type": "markdown",
   "id": "dafe31ed",
   "metadata": {},
   "source": [
    "8. Why is eggs a valid variable name while 100 is invalid?\n",
    "Ans: Bcause the variable must be starts with the letter or underscore character.and also variable name cannot starts with the\n",
    "     number."
   ]
  },
  {
   "cell_type": "markdown",
   "id": "2ac44024",
   "metadata": {},
   "source": [
    "9. What three functions can be used to get the integer, floating-point number, or string version of a value?\n",
    "Ans: int():It converts the value into integer.e.g int(3.14),returns 3.\n",
    "     float():It converts the value into floating point number.e.g float(\"3.14\"),returns 3.14.\n",
    "     string():It converts a value to a string e.g. str(3.14) returns \"3.14\"\n",
    "      \n",
    "   These functions are also called \"type conversion functions\" "
   ]
  },
  {
   "cell_type": "markdown",
   "id": "af412fe6",
   "metadata": {},
   "source": [
    "10. Why does this expression cause an error? How can you fix it?\n",
    "'I have eaten ' + 99 + ' burritos.'\n",
    "Ans: Because it tried  to concatenate a string and an integer using \"+\" operator.and python does not allow this.\n",
    "     If you want to add the values or join as a string,\n",
    "     To fis this,you need to convert integer into string before concatenating it with other strings.\n",
    "     Fot this we can use string() function.\n",
    "     ‘I have eaten ’ + str(99) + ’ burritos.’\n",
    "\n",
    "      This will produce the output:\n",
    "\n",
    "     ‘I have eaten 99 burritos.’\n",
    "    \n",
    "      we can also use format() function\n",
    "      f’I have eaten {99} burritos.’\n",
    "\n",
    "     ‘I have eaten {} burritos.’.format(99)\n",
    "\n",
    "     ‘I have eaten %d burritos.’ % 99."
   ]
  }
 ],
 "metadata": {
  "kernelspec": {
   "display_name": "Python 3 (ipykernel)",
   "language": "python",
   "name": "python3"
  },
  "language_info": {
   "codemirror_mode": {
    "name": "ipython",
    "version": 3
   },
   "file_extension": ".py",
   "mimetype": "text/x-python",
   "name": "python",
   "nbconvert_exporter": "python",
   "pygments_lexer": "ipython3",
   "version": "3.11.5"
  }
 },
 "nbformat": 4,
 "nbformat_minor": 5
}
