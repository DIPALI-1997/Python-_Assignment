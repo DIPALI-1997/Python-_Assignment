{
 "cells": [
  {
   "cell_type": "markdown",
   "id": "0f126039",
   "metadata": {},
   "source": [
    "1. Why are functions advantageous to have in your programs?\n"
   ]
  },
  {
   "cell_type": "markdown",
   "id": "d98bce68",
   "metadata": {},
   "source": [
    "Solution:"
   ]
  },
  {
   "cell_type": "markdown",
   "id": "0f955a0c",
   "metadata": {},
   "source": [
    "Functions are reusable pieces of programs.\n",
    "\n",
    "Functions allow us to give a name to a block of statements, allowing us to run that block using the specified function name \n",
    "anywhere in our application and any number of times.\n",
    "\n",
    "Primary benefits are:\n",
    "\n",
    "Reusability : A function can be used again and again.\n"
   ]
  },
  {
   "cell_type": "markdown",
   "id": "8eff428b",
   "metadata": {},
   "source": [
    "Simplicity : Functions are easy to use and make code readable. We only need to know the purpose of a function and when to use \n",
    "             it without focusing on inner working."
   ]
  },
  {
   "cell_type": "code",
   "execution_count": 1,
   "id": "ed0efcfe",
   "metadata": {},
   "outputs": [
    {
     "name": "stdout",
     "output_type": "stream",
     "text": [
      "Cube of 2 is : 8\n",
      "Cube of 4 is : 64\n"
     ]
    }
   ],
   "source": [
    "# define a function\n",
    "\n",
    "def cubeofNumber(x):\n",
    "    return x**3\n",
    "\n",
    "print(f\"Cube of 2 is : {cubeofNumber(2)}\")\n",
    "print(f\"Cube of 4 is : {cubeofNumber(4)}\") # calling same function again"
   ]
  },
  {
   "cell_type": "markdown",
   "id": "7f0236c2",
   "metadata": {},
   "source": [
    "2. When does the code in a function run: when it's specified or when it's called?\n"
   ]
  },
  {
   "cell_type": "markdown",
   "id": "257e66c0",
   "metadata": {},
   "source": [
    "Solution:"
   ]
  },
  {
   "cell_type": "code",
   "execution_count": 2,
   "id": "62c21f7f",
   "metadata": {},
   "outputs": [],
   "source": [
    "# specify a function\n",
    "\n",
    "'''\n",
    "we use `def <function-name>():`\n",
    "to specify a function.\n",
    "'''\n",
    "\n",
    "def sqrofNumber(x):\n",
    "    \"\"\"\n",
    "    returns square of number\n",
    "    \"\"\"\n",
    "    return x**2"
   ]
  },
  {
   "cell_type": "markdown",
   "id": "370b03a3",
   "metadata": {},
   "source": [
    "In above cell we have defined our function. The code inside the function will not get executed unless we call the function with specified parameters."
   ]
  },
  {
   "cell_type": "markdown",
   "id": "2f178b7e",
   "metadata": {},
   "source": [
    "Calling a function,"
   ]
  },
  {
   "cell_type": "code",
   "execution_count": 3,
   "id": "4e35d090",
   "metadata": {},
   "outputs": [
    {
     "data": {
      "text/plain": [
       "1936"
      ]
     },
     "execution_count": 3,
     "metadata": {},
     "output_type": "execute_result"
    }
   ],
   "source": [
    "sqrofNumber(44)"
   ]
  },
  {
   "cell_type": "markdown",
   "id": "bce93677",
   "metadata": {},
   "source": [
    "A function is called as per the requirements of a task."
   ]
  },
  {
   "cell_type": "markdown",
   "id": "203ac2e9",
   "metadata": {},
   "source": [
    "3. What statement creates a function?\n"
   ]
  },
  {
   "cell_type": "markdown",
   "id": "1f5b2d3e",
   "metadata": {},
   "source": [
    "Solution:"
   ]
  },
  {
   "cell_type": "markdown",
   "id": "4919cf3b",
   "metadata": {},
   "source": [
    "A Function can be defined using the def keyword in the following format:"
   ]
  },
  {
   "cell_type": "code",
   "execution_count": 4,
   "id": "80855d09",
   "metadata": {},
   "outputs": [],
   "source": [
    "def function_name(parameters):\n",
    "    \"\"\"\n",
    "    define a set of operations\n",
    "    \"\"\""
   ]
  },
  {
   "cell_type": "markdown",
   "id": "0c16ce41",
   "metadata": {},
   "source": [
    "-->>The function name is what we use to identify the function.\n",
    "-->>The parameters of a function are the inputs for that function. These inputs can be used within the functions for                 computations. Parameters are optional.\n",
    "-->>The body contains the set of operations."
   ]
  },
  {
   "cell_type": "code",
   "execution_count": 5,
   "id": "0812b0fb",
   "metadata": {},
   "outputs": [
    {
     "name": "stdout",
     "output_type": "stream",
     "text": [
      "hello\n"
     ]
    }
   ],
   "source": [
    "# function without use of parameters\n",
    "def greet():            # define a function using def keyword\n",
    "    print(\"hello\")      # print hello\n",
    "\n",
    "greet()                 # calling a function"
   ]
  },
  {
   "cell_type": "code",
   "execution_count": 6,
   "id": "7b39d5fa",
   "metadata": {},
   "outputs": [
    {
     "data": {
      "text/plain": [
       "-8"
      ]
     },
     "execution_count": 6,
     "metadata": {},
     "output_type": "execute_result"
    }
   ],
   "source": [
    "# function with use of parameters\n",
    "def addTwoValues(x1, x2):\n",
    "    return x1+x2\n",
    "\n",
    "addTwoValues(2, -10)"
   ]
  },
  {
   "cell_type": "markdown",
   "id": "72101e71",
   "metadata": {},
   "source": [
    "4. What is the difference between a function and a function call?\n"
   ]
  },
  {
   "cell_type": "markdown",
   "id": "28da3fb0",
   "metadata": {},
   "source": [
    "Solution:"
   ]
  },
  {
   "cell_type": "markdown",
   "id": "b7c0c08f",
   "metadata": {},
   "source": [
    "A function is a set of instructions. We can define a function but the instructions won't be executed until we call the function and tell compiler to execute the instruction of the defined function."
   ]
  },
  {
   "cell_type": "markdown",
   "id": "f238d83d",
   "metadata": {},
   "source": [
    "5. How many global scopes are there in a Python program? How many local scopes?"
   ]
  },
  {
   "cell_type": "markdown",
   "id": "659e991c",
   "metadata": {},
   "source": [
    "A variable scope determines where our variables can be accessed within the program and what values are stored inside of those variables.\n",
    "\n",
    "There are 4 types of scope,"
   ]
  },
  {
   "cell_type": "markdown",
   "id": "dcb64a6a",
   "metadata": {},
   "source": [
    "1)Local\n",
    " 2)Enclosing\n",
    " 3)Global\n",
    " 4)Built-in"
   ]
  },
  {
   "cell_type": "markdown",
   "id": "7ea53e3e",
   "metadata": {},
   "source": [
    "Local : variables that are defined inside of a function.\n",
    "\n",
    "Enclosing : variables in local scope of enclosed function.\n",
    "\n",
    "Global : variables are defined at top level of a program or defined using GLOBAL keyword.\n",
    "\n",
    "Built-in : keywords, functions that are built in Python."
   ]
  },
  {
   "cell_type": "markdown",
   "id": "ddd343a1",
   "metadata": {},
   "source": [
    "LEGB is the order in which a variable is assigned, the iterpretor checks variable first in local scope, then enclosing scope, then global scope and then in built-in scope."
   ]
  },
  {
   "cell_type": "code",
   "execution_count": 7,
   "id": "f67216b8",
   "metadata": {},
   "outputs": [
    {
     "name": "stdout",
     "output_type": "stream",
     "text": [
      "_global_x_\n",
      "_local_y_\n"
     ]
    }
   ],
   "source": [
    "# global scope\n",
    "x = \"_global_x_\"\n",
    "\n",
    "def test():\n",
    "    y = \"_local_y_\" # local to test function\n",
    "    print(x)\n",
    "    print(y)\n",
    "\n",
    "test()\n",
    "# print(y)    # Throws an error"
   ]
  },
  {
   "cell_type": "markdown",
   "id": "26a870d6",
   "metadata": {},
   "source": [
    "We have only 1 global scope variable for a program and can have many local scope variables as per the number of functions we have defined.\n",
    "\n",
    "Note, a local variable is only created when a function is called. Declaring a local variable doesn't mean it has been assigned a memory location."
   ]
  },
  {
   "cell_type": "markdown",
   "id": "b3a1b893",
   "metadata": {},
   "source": [
    "6. What happens to variables in a local scope when the function call returns?\n"
   ]
  },
  {
   "cell_type": "markdown",
   "id": "0771ce04",
   "metadata": {},
   "source": [
    "Solution:"
   ]
  },
  {
   "cell_type": "markdown",
   "id": "8114eb1e",
   "metadata": {},
   "source": [
    "When the execution of the function returns, the local variables in the function scope are destroyed.\n",
    "\n",
    "Even the parameters of the function are local to the scope of the function."
   ]
  },
  {
   "cell_type": "markdown",
   "id": "59baf85b",
   "metadata": {},
   "source": [
    "7. What is the concept of a return value? Is it possible to have a return value in an expression?\n"
   ]
  },
  {
   "cell_type": "markdown",
   "id": "82c4623e",
   "metadata": {},
   "source": [
    "Solution:"
   ]
  },
  {
   "cell_type": "markdown",
   "id": "65f50936",
   "metadata": {},
   "source": [
    "The return statement is used to return values from the function. Any remaining lines of code block after the return statement are not executed."
   ]
  },
  {
   "cell_type": "code",
   "execution_count": 8,
   "id": "fd6b32c8",
   "metadata": {},
   "outputs": [
    {
     "data": {
      "text/plain": [
       "13"
      ]
     },
     "execution_count": 8,
     "metadata": {},
     "output_type": "execute_result"
    }
   ],
   "source": [
    "def add_values(x1, x2):\n",
    "    sum = x1 + x2\n",
    "    return sum  # explicit return statement\n",
    "\n",
    "add_values(2, 11) "
   ]
  },
  {
   "cell_type": "markdown",
   "id": "936d1ab3",
   "metadata": {},
   "source": [
    "We can also return an expression as return value"
   ]
  },
  {
   "cell_type": "code",
   "execution_count": 9,
   "id": "3dec7942",
   "metadata": {},
   "outputs": [
    {
     "data": {
      "text/plain": [
       "13"
      ]
     },
     "execution_count": 9,
     "metadata": {},
     "output_type": "execute_result"
    }
   ],
   "source": [
    "def add_values(x1, x2):\n",
    "    return x1 + x2  # an expression is evaluated first and then value is returned\n",
    "\n",
    "add_values(2, 11)"
   ]
  },
  {
   "cell_type": "markdown",
   "id": "ee687723",
   "metadata": {},
   "source": [
    "8. If a function does not have a return statement, what is the return value of a call to that function?\n"
   ]
  },
  {
   "cell_type": "markdown",
   "id": "caacec15",
   "metadata": {},
   "source": [
    "Solution:"
   ]
  },
  {
   "cell_type": "markdown",
   "id": "f9137a36",
   "metadata": {},
   "source": [
    "We gonna check it using code,"
   ]
  },
  {
   "cell_type": "code",
   "execution_count": 10,
   "id": "711f2c7a",
   "metadata": {},
   "outputs": [
    {
     "name": "stdout",
     "output_type": "stream",
     "text": [
      "None\n",
      "<class 'NoneType'>\n"
     ]
    }
   ],
   "source": [
    "def add_values(x1, x2):\n",
    "    sum = x1 + x2\n",
    "\n",
    "print(add_values(2, 11))\n",
    "print(type(add_values(2, 11)))"
   ]
  },
  {
   "cell_type": "markdown",
   "id": "87591e48",
   "metadata": {},
   "source": [
    "As we can see if there is no explicit return statement, the function return None."
   ]
  },
  {
   "cell_type": "markdown",
   "id": "b681807a",
   "metadata": {},
   "source": [
    "9. How do you make a function variable refer to the global variable?\n"
   ]
  },
  {
   "cell_type": "markdown",
   "id": "39037096",
   "metadata": {},
   "source": [
    "Solution:"
   ]
  },
  {
   "cell_type": "markdown",
   "id": "a4a5f082",
   "metadata": {},
   "source": [
    "We use global keyword before a variable to tell interpreter inside a function that we are using a global variable.\n",
    "\n",
    "We use this keyword if we have to modify the global variable inside a function."
   ]
  },
  {
   "cell_type": "code",
   "execution_count": 1,
   "id": "e8aa93fb",
   "metadata": {},
   "outputs": [
    {
     "name": "stdout",
     "output_type": "stream",
     "text": [
      "Total marks : 100\n",
      "Total marks : 35\n"
     ]
    }
   ],
   "source": [
    "# global variable\n",
    "total_marks = 100\n",
    "\n",
    "def test():\n",
    "    global total_marks\n",
    "    if total_marks>34:\n",
    "        total_marks = 35\n",
    "\n",
    "print(f'Total marks : {total_marks}')\n",
    "\n",
    "# call function\n",
    "test()\n",
    "\n",
    "print(f'Total marks : {total_marks}')"
   ]
  },
  {
   "cell_type": "markdown",
   "id": "baff30b7",
   "metadata": {},
   "source": [
    "10. What is the data type of None?\n"
   ]
  },
  {
   "cell_type": "markdown",
   "id": "473bafa6",
   "metadata": {},
   "source": [
    "Solution:"
   ]
  },
  {
   "cell_type": "code",
   "execution_count": 2,
   "id": "9d1c70cb",
   "metadata": {},
   "outputs": [
    {
     "name": "stdout",
     "output_type": "stream",
     "text": [
      "Help on NoneType object:\n",
      "\n",
      "class NoneType(object)\n",
      " |  Methods defined here:\n",
      " |  \n",
      " |  __bool__(self, /)\n",
      " |      True if self else False\n",
      " |  \n",
      " |  __repr__(self, /)\n",
      " |      Return repr(self).\n",
      " |  \n",
      " |  ----------------------------------------------------------------------\n",
      " |  Static methods defined here:\n",
      " |  \n",
      " |  __new__(*args, **kwargs) from builtins.type\n",
      " |      Create and return a new object.  See help(type) for accurate signature.\n",
      "\n"
     ]
    }
   ],
   "source": [
    "help(None)"
   ]
  },
  {
   "cell_type": "code",
   "execution_count": 3,
   "id": "a5f2fc5e",
   "metadata": {},
   "outputs": [
    {
     "data": {
      "text/plain": [
       "NoneType"
      ]
     },
     "execution_count": 3,
     "metadata": {},
     "output_type": "execute_result"
    }
   ],
   "source": [
    "type(None)"
   ]
  },
  {
   "cell_type": "markdown",
   "id": "696a6955",
   "metadata": {},
   "source": [
    "None keyword is an object of data type NoneType.\n",
    "\n",
    "Think it as of, we have a NoneType class and it has only one object that is None and None can be assigned to any object."
   ]
  },
  {
   "cell_type": "markdown",
   "id": "dc0372a3",
   "metadata": {},
   "source": [
    "11. What does the sentence import areallyourpetsnamederic do?\n"
   ]
  },
  {
   "cell_type": "markdown",
   "id": "39493e81",
   "metadata": {},
   "source": [
    "Solution:"
   ]
  },
  {
   "cell_type": "markdown",
   "id": "97b27115",
   "metadata": {},
   "source": [
    "This statement imports a module areallyourpetsnamederic, but as we see below there is no module named areallyourpetsnamederic in Python."
   ]
  },
  {
   "cell_type": "code",
   "execution_count": 4,
   "id": "f30acb13",
   "metadata": {},
   "outputs": [
    {
     "ename": "ModuleNotFoundError",
     "evalue": "No module named 'areallyourpetsnamederic'",
     "output_type": "error",
     "traceback": [
      "\u001b[1;31m---------------------------------------------------------------------------\u001b[0m",
      "\u001b[1;31mModuleNotFoundError\u001b[0m                       Traceback (most recent call last)",
      "Cell \u001b[1;32mIn[4], line 1\u001b[0m\n\u001b[1;32m----> 1\u001b[0m \u001b[38;5;28;01mimport\u001b[39;00m \u001b[38;5;21;01mareallyourpetsnamederic\u001b[39;00m\n",
      "\u001b[1;31mModuleNotFoundError\u001b[0m: No module named 'areallyourpetsnamederic'"
     ]
    }
   ],
   "source": [
    "import areallyourpetsnamederic"
   ]
  },
  {
   "cell_type": "markdown",
   "id": "2d81280b",
   "metadata": {},
   "source": [
    "12. If you had a bacon() feature in a spam module, what would you call it after importing spam?\n"
   ]
  },
  {
   "cell_type": "markdown",
   "id": "94090b0f",
   "metadata": {},
   "source": [
    "Solution:"
   ]
  },
  {
   "cell_type": "markdown",
   "id": "220bb584",
   "metadata": {},
   "source": [
    "Any function in spam module can be called using format,\n",
    "\n",
    "spam.<function-name>()\n",
    "\n",
    "Therefore, bacon feature can be called using,\n",
    "\n",
    "spam.bacon()"
   ]
  },
  {
   "cell_type": "markdown",
   "id": "dd0ff96f",
   "metadata": {},
   "source": [
    "13. What can you do to save a programme from crashing if it encounters an error?\n"
   ]
  },
  {
   "cell_type": "markdown",
   "id": "c60d6a7d",
   "metadata": {},
   "source": [
    "Solution:"
   ]
  },
  {
   "cell_type": "markdown",
   "id": "348c6bbc",
   "metadata": {},
   "source": [
    "We can use try statement to test a code block and if it encounters an error an except block handles the error which avoids crashing a program."
   ]
  },
  {
   "cell_type": "code",
   "execution_count": 5,
   "id": "31ba1fad",
   "metadata": {},
   "outputs": [
    {
     "ename": "ZeroDivisionError",
     "evalue": "division by zero",
     "output_type": "error",
     "traceback": [
      "\u001b[1;31m---------------------------------------------------------------------------\u001b[0m",
      "\u001b[1;31mZeroDivisionError\u001b[0m                         Traceback (most recent call last)",
      "Cell \u001b[1;32mIn[5], line 6\u001b[0m\n\u001b[0;32m      3\u001b[0m \u001b[38;5;28;01mdef\u001b[39;00m \u001b[38;5;21mdivision\u001b[39m(x1, x2):\n\u001b[0;32m      4\u001b[0m     \u001b[38;5;28mprint\u001b[39m(x1\u001b[38;5;241m/\u001b[39mx2)\n\u001b[1;32m----> 6\u001b[0m division(\u001b[38;5;241m10\u001b[39m, \u001b[38;5;241m0\u001b[39m)\n",
      "Cell \u001b[1;32mIn[5], line 4\u001b[0m, in \u001b[0;36mdivision\u001b[1;34m(x1, x2)\u001b[0m\n\u001b[0;32m      3\u001b[0m \u001b[38;5;28;01mdef\u001b[39;00m \u001b[38;5;21mdivision\u001b[39m(x1, x2):\n\u001b[1;32m----> 4\u001b[0m     \u001b[38;5;28mprint\u001b[39m(x1\u001b[38;5;241m/\u001b[39mx2)\n",
      "\u001b[1;31mZeroDivisionError\u001b[0m: division by zero"
     ]
    }
   ],
   "source": [
    "# without using try/except\n",
    "\n",
    "def division(x1, x2):\n",
    "    print(x1/x2)\n",
    "    \n",
    "division(10, 0)"
   ]
  },
  {
   "cell_type": "markdown",
   "id": "dd153448",
   "metadata": {},
   "source": [
    "The above program crashed!!!"
   ]
  },
  {
   "cell_type": "code",
   "execution_count": 6,
   "id": "ead073af",
   "metadata": {},
   "outputs": [
    {
     "name": "stdout",
     "output_type": "stream",
     "text": [
      "<class 'Exception'> division by zero\n"
     ]
    }
   ],
   "source": [
    "# Using try/except\n",
    "\n",
    "def division(x1, x2):\n",
    "    try:\n",
    "        print(x1/x2)\n",
    "    except Exception as e:\n",
    "        print(Exception, e)\n",
    "\n",
    "division(10, 0)"
   ]
  },
  {
   "cell_type": "markdown",
   "id": "8c4beef4",
   "metadata": {},
   "source": [
    "14. What is the purpose of the try clause? What is the purpose of the except clause?\n"
   ]
  },
  {
   "cell_type": "markdown",
   "id": "8fbc6a72",
   "metadata": {},
   "source": [
    "Solution:"
   ]
  },
  {
   "cell_type": "markdown",
   "id": "061d24af",
   "metadata": {},
   "source": [
    "As from the above example, the code block that can cause an error is handled with try/except clause without crashing of program.\n",
    "\n",
    "If try block does not execute successfully the program will run except block."
   ]
  },
  {
   "cell_type": "code",
   "execution_count": null,
   "id": "12ce71fb",
   "metadata": {},
   "outputs": [],
   "source": []
  }
 ],
 "metadata": {
  "kernelspec": {
   "display_name": "Python 3 (ipykernel)",
   "language": "python",
   "name": "python3"
  },
  "language_info": {
   "codemirror_mode": {
    "name": "ipython",
    "version": 3
   },
   "file_extension": ".py",
   "mimetype": "text/x-python",
   "name": "python",
   "nbconvert_exporter": "python",
   "pygments_lexer": "ipython3",
   "version": "3.11.5"
  }
 },
 "nbformat": 4,
 "nbformat_minor": 5
}
